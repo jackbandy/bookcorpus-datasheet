{
 "cells": [
  {
   "cell_type": "code",
   "execution_count": 23,
   "metadata": {},
   "outputs": [],
   "source": [
    "# import libraries and read in data\n",
    "import pandas as pd\n",
    "from IPython.display import display, HTML\n",
    "\n",
    "# BookCorpus metadata, from files downloaded directly from https://yknzhu.wixsite.com/mbweb\n",
    "bc_books = pd.read_csv('data/BookCorpus/books_in_bookcorpus.csv')\n",
    "\n",
    "# BookCorpusOpen url list, downloaded from https://huggingface.co/datasets/bookcorpusopen\n",
    "bcopen_books = pd.read_csv('data/BookCorpusOpen/2020-08-27-epub_urls.txt',header=None,names=['EpubLink'])\n",
    "\n",
    "# Smashwords21, scraped from smashwords.com in April 2021\n",
    "sw_books = pd.read_csv('data/Smashwords21/smashwords_april_2021.csv')"
   ]
  },
  {
   "cell_type": "code",
   "execution_count": 24,
   "metadata": {},
   "outputs": [],
   "source": [
    "# merge data for clearer processing\n",
    "bcopen_books['smashwords_id'] = bcopen_books.EpubLink.str.split('/',expand=True)[5]\n",
    "bcopen_books['in_bcopen'] = True\n",
    "\n",
    "sw_books['smashwords_id'] = sw_books.Link.str.split('/',expand=True)[5]\n",
    "sw_books = sw_books.merge(bcopen_books, how='outer',on='smashwords_id')\n",
    "sw_books.fillna(value='',inplace=True)"
   ]
  },
  {
   "cell_type": "markdown",
   "metadata": {},
   "source": [
    "## General Composition"
   ]
  },
  {
   "cell_type": "code",
   "execution_count": 25,
   "metadata": {},
   "outputs": [
    {
     "name": "stdout",
     "output_type": "stream",
     "text": [
      "11040\n"
     ]
    }
   ],
   "source": [
    "# How many instances (books) are there in total?\n",
    "print(len(bc_books))"
   ]
  },
  {
   "cell_type": "code",
   "execution_count": 26,
   "metadata": {},
   "outputs": [],
   "source": [
    "# To align with the 11,038 reported by Zhu and Kiros et al., remove \"adventure-all.txt\" and \"romance-all.txt\"\n",
    "extra_books = bc_books[(bc_books.fname.str.contains('adventure-all.txt')|bc_books.fname.str.contains('romance-all.txt'))]\n",
    "bc_books = bc_books[~(bc_books.fname.str.contains('adventure-all.txt')|bc_books.fname.str.contains('romance-all.txt'))]"
   ]
  },
  {
   "cell_type": "code",
   "execution_count": 27,
   "metadata": {},
   "outputs": [
    {
     "data": {
      "text/plain": [
       "11038"
      ]
     },
     "execution_count": 27,
     "metadata": {},
     "output_type": "execute_result"
    }
   ],
   "source": [
    "len(bc_books)"
   ]
  },
  {
   "cell_type": "code",
   "execution_count": 28,
   "metadata": {},
   "outputs": [
    {
     "data": {
      "text/plain": [
       "811601031"
      ]
     },
     "execution_count": 28,
     "metadata": {},
     "output_type": "execute_result"
    }
   ],
   "source": [
    "# How many words in the files?\n",
    "bc_books.word_count.sum()"
   ]
  },
  {
   "cell_type": "code",
   "execution_count": 29,
   "metadata": {},
   "outputs": [
    {
     "data": {
      "text/plain": [
       "1042409939"
      ]
     },
     "execution_count": 29,
     "metadata": {},
     "output_type": "execute_result"
    }
   ],
   "source": [
    "# Zhu and Kiros et al. report 984,846,357, so this does not align\n",
    "# We hypothesize that this is mainly due to empty text files\n",
    "# e.g. 'All_I_Want_for_Christmas_Is_a_Vampire.txt' is empty in the download from https://yknzhu.wixsite.com/mbweb\n",
    "\n",
    "# Also, if we add the words from the \"extra books,\" the word count exceeds the original reported\n",
    "extra_books.word_count.sum() + bc_books.word_count.sum()"
   ]
  },
  {
   "cell_type": "markdown",
   "metadata": {},
   "source": [
    "## Books with Duplicate Copies"
   ]
  },
  {
   "cell_type": "code",
   "execution_count": 30,
   "metadata": {},
   "outputs": [
    {
     "name": "stdout",
     "output_type": "stream",
     "text": [
      "7185\n"
     ]
    }
   ],
   "source": [
    "# How many unique file names are there?\n",
    "file_name_counts = pd.DataFrame(bc_books.fname.value_counts()).reset_index()\n",
    "file_name_counts.columns = ['fname','n']\n",
    "print(len(file_name_counts))"
   ]
  },
  {
   "cell_type": "markdown",
   "metadata": {},
   "source": [
    "*We confirmed each unique filename corresponded to one unique book, even in cases where word counts and disk usage differed.*\n",
    "\n",
    "*See the datasheet for details.*"
   ]
  },
  {
   "cell_type": "code",
   "execution_count": 31,
   "metadata": {},
   "outputs": [
    {
     "name": "stdout",
     "output_type": "stream",
     "text": [
      "2930\n"
     ]
    }
   ],
   "source": [
    "# How many file names occur multiple times?\n",
    "print(len(file_name_counts[file_name_counts.n>1]))"
   ]
  },
  {
   "cell_type": "code",
   "execution_count": 32,
   "metadata": {},
   "outputs": [
    {
     "data": {
      "text/plain": [
       "3853"
      ]
     },
     "execution_count": 32,
     "metadata": {},
     "output_type": "execute_result"
    }
   ],
   "source": [
    "# How many books do these file names represent?\n",
    "# That is, how many books are duplicates?\n",
    "len(bc_books) - len(file_name_counts)"
   ]
  },
  {
   "cell_type": "code",
   "execution_count": 33,
   "metadata": {},
   "outputs": [
    {
     "name": "stdout",
     "output_type": "stream",
     "text": [
      "1    4255\n",
      "2    2101\n",
      "3     741\n",
      "4      82\n",
      "5       6\n",
      "Name: n, dtype: int64\n"
     ]
    }
   ],
   "source": [
    "# How many books occur once, twice, thrice, etc.?\n",
    "print(file_name_counts.n.value_counts())"
   ]
  },
  {
   "cell_type": "code",
   "execution_count": 34,
   "metadata": {},
   "outputs": [
    {
     "name": "stdout",
     "output_type": "stream",
     "text": [
      "File name: 2059\n",
      "2 Occurrences:\n"
     ]
    },
    {
     "data": {
      "text/html": [
       "<table border=\"1\" class=\"dataframe\">\n",
       "  <thead>\n",
       "    <tr style=\"text-align: right;\">\n",
       "      <th></th>\n",
       "      <th>location</th>\n",
       "      <th>category</th>\n",
       "      <th>fname</th>\n",
       "      <th>word_count</th>\n",
       "      <th>disk_usage</th>\n",
       "    </tr>\n",
       "  </thead>\n",
       "  <tbody>\n",
       "    <tr>\n",
       "      <th>8008</th>\n",
       "      <td>./Fantasy/Changeless.txt</td>\n",
       "      <td>Fantasy</td>\n",
       "      <td>Changeless.txt</td>\n",
       "      <td>92799</td>\n",
       "      <td>532K</td>\n",
       "    </tr>\n",
       "    <tr>\n",
       "      <th>8009</th>\n",
       "      <td>./Vampires/Changeless.txt</td>\n",
       "      <td>Vampires</td>\n",
       "      <td>Changeless.txt</td>\n",
       "      <td>92799</td>\n",
       "      <td>532K</td>\n",
       "    </tr>\n",
       "  </tbody>\n",
       "</table>"
      ],
      "text/plain": [
       "<IPython.core.display.HTML object>"
      ]
     },
     "metadata": {},
     "output_type": "display_data"
    },
    {
     "name": "stdout",
     "output_type": "stream",
     "text": [
      "File name: 2463\n",
      "2 Occurrences:\n"
     ]
    },
    {
     "data": {
      "text/html": [
       "<table border=\"1\" class=\"dataframe\">\n",
       "  <thead>\n",
       "    <tr style=\"text-align: right;\">\n",
       "      <th></th>\n",
       "      <th>location</th>\n",
       "      <th>category</th>\n",
       "      <th>fname</th>\n",
       "      <th>word_count</th>\n",
       "      <th>disk_usage</th>\n",
       "    </tr>\n",
       "  </thead>\n",
       "  <tbody>\n",
       "    <tr>\n",
       "      <th>1951</th>\n",
       "      <td>./Mystery/207086.txt</td>\n",
       "      <td>Mystery</td>\n",
       "      <td>207086.txt</td>\n",
       "      <td>31407</td>\n",
       "      <td>172K</td>\n",
       "    </tr>\n",
       "    <tr>\n",
       "      <th>1952</th>\n",
       "      <td>./Thriller/207086.txt</td>\n",
       "      <td>Thriller</td>\n",
       "      <td>207086.txt</td>\n",
       "      <td>31407</td>\n",
       "      <td>172K</td>\n",
       "    </tr>\n",
       "  </tbody>\n",
       "</table>"
      ],
      "text/plain": [
       "<IPython.core.display.HTML object>"
      ]
     },
     "metadata": {},
     "output_type": "display_data"
    },
    {
     "name": "stdout",
     "output_type": "stream",
     "text": [
      "File name: 1645\n",
      "2 Occurrences:\n"
     ]
    },
    {
     "data": {
      "text/html": [
       "<table border=\"1\" class=\"dataframe\">\n",
       "  <thead>\n",
       "    <tr style=\"text-align: right;\">\n",
       "      <th></th>\n",
       "      <th>location</th>\n",
       "      <th>category</th>\n",
       "      <th>fname</th>\n",
       "      <th>word_count</th>\n",
       "      <th>disk_usage</th>\n",
       "    </tr>\n",
       "  </thead>\n",
       "  <tbody>\n",
       "    <tr>\n",
       "      <th>6583</th>\n",
       "      <td>./Adventure/371011.txt</td>\n",
       "      <td>Adventure</td>\n",
       "      <td>371011.txt</td>\n",
       "      <td>80424</td>\n",
       "      <td>440K</td>\n",
       "    </tr>\n",
       "    <tr>\n",
       "      <th>6584</th>\n",
       "      <td>./Thriller/371011.txt</td>\n",
       "      <td>Thriller</td>\n",
       "      <td>371011.txt</td>\n",
       "      <td>80424</td>\n",
       "      <td>440K</td>\n",
       "    </tr>\n",
       "  </tbody>\n",
       "</table>"
      ],
      "text/plain": [
       "<IPython.core.display.HTML object>"
      ]
     },
     "metadata": {},
     "output_type": "display_data"
    },
    {
     "name": "stdout",
     "output_type": "stream",
     "text": [
      "File name: 1981\n",
      "2 Occurrences:\n"
     ]
    },
    {
     "data": {
      "text/html": [
       "<table border=\"1\" class=\"dataframe\">\n",
       "  <thead>\n",
       "    <tr style=\"text-align: right;\">\n",
       "      <th></th>\n",
       "      <th>location</th>\n",
       "      <th>category</th>\n",
       "      <th>fname</th>\n",
       "      <th>word_count</th>\n",
       "      <th>disk_usage</th>\n",
       "    </tr>\n",
       "  </thead>\n",
       "  <tbody>\n",
       "    <tr>\n",
       "      <th>6223</th>\n",
       "      <td>./Horror/322557.txt</td>\n",
       "      <td>Horror</td>\n",
       "      <td>322557.txt</td>\n",
       "      <td>77476</td>\n",
       "      <td>420K</td>\n",
       "    </tr>\n",
       "    <tr>\n",
       "      <th>6226</th>\n",
       "      <td>./Science_fiction/322557.txt</td>\n",
       "      <td>Science_fiction</td>\n",
       "      <td>322557.txt</td>\n",
       "      <td>77476</td>\n",
       "      <td>420K</td>\n",
       "    </tr>\n",
       "  </tbody>\n",
       "</table>"
      ],
      "text/plain": [
       "<IPython.core.display.HTML object>"
      ]
     },
     "metadata": {},
     "output_type": "display_data"
    },
    {
     "name": "stdout",
     "output_type": "stream",
     "text": [
      "File name: 889\n",
      "2 Occurrences:\n"
     ]
    },
    {
     "data": {
      "text/html": [
       "<table border=\"1\" class=\"dataframe\">\n",
       "  <thead>\n",
       "    <tr style=\"text-align: right;\">\n",
       "      <th></th>\n",
       "      <th>location</th>\n",
       "      <th>category</th>\n",
       "      <th>fname</th>\n",
       "      <th>word_count</th>\n",
       "      <th>disk_usage</th>\n",
       "    </tr>\n",
       "  </thead>\n",
       "  <tbody>\n",
       "    <tr>\n",
       "      <th>3561</th>\n",
       "      <td>./Romance/Spellbinder.txt</td>\n",
       "      <td>Romance</td>\n",
       "      <td>Spellbinder.txt</td>\n",
       "      <td>51335</td>\n",
       "      <td>284K</td>\n",
       "    </tr>\n",
       "    <tr>\n",
       "      <th>3562</th>\n",
       "      <td>./Vampires/Spellbinder.txt</td>\n",
       "      <td>Vampires</td>\n",
       "      <td>Spellbinder.txt</td>\n",
       "      <td>51335</td>\n",
       "      <td>284K</td>\n",
       "    </tr>\n",
       "  </tbody>\n",
       "</table>"
      ],
      "text/plain": [
       "<IPython.core.display.HTML object>"
      ]
     },
     "metadata": {},
     "output_type": "display_data"
    }
   ],
   "source": [
    "# What are some of the duplicate books?\n",
    "\n",
    "# for now, remove filenames with unknown name scheme (e.g. 'u3041.txt', 'et4358.txt', 'b5096.txt')\n",
    "named_dups=file_name_counts[(~file_name_counts.fname.str.match(r'(u|et|b)'))]\n",
    "named_dups = named_dups[(named_dups.n>1)]\n",
    "\n",
    "# inspect 5 random filenames occuring multiple times, inspect listings\n",
    "for index, row in named_dups.sample(5).iterrows():\n",
    "    print(\"File name: {}\".format(index))\n",
    "    print(\"{} Occurrences:\".format(len(bc_books[bc_books.fname==row.fname])))\n",
    "    display(HTML(bc_books[bc_books.fname==row.fname].to_html()))"
   ]
  },
  {
   "cell_type": "markdown",
   "metadata": {},
   "source": [
    "## Sample Comparisons"
   ]
  },
  {
   "cell_type": "markdown",
   "metadata": {},
   "source": [
    "#### Genre Distribution"
   ]
  },
  {
   "cell_type": "code",
   "execution_count": 35,
   "metadata": {},
   "outputs": [
    {
     "data": {
      "text/html": [
       "<table border=\"1\" class=\"dataframe\">\n",
       "  <thead>\n",
       "    <tr style=\"text-align: right;\">\n",
       "      <th></th>\n",
       "      <th>BookCorpus</th>\n",
       "      <th>BookCorpusOpen</th>\n",
       "      <th>Smashwords21</th>\n",
       "    </tr>\n",
       "  </thead>\n",
       "  <tbody>\n",
       "    <tr>\n",
       "      <th>Romance</th>\n",
       "      <td>26.1% (2880)</td>\n",
       "      <td>17.7% (3265)</td>\n",
       "      <td>15.9% (69963)</td>\n",
       "    </tr>\n",
       "    <tr>\n",
       "      <th>Fantasy</th>\n",
       "      <td>13.6% (1502)</td>\n",
       "      <td>16.9% (3108)</td>\n",
       "      <td>10.6% (46565)</td>\n",
       "    </tr>\n",
       "    <tr>\n",
       "      <th>Science_fiction</th>\n",
       "      <td>7.5% (823)</td>\n",
       "      <td>13.0% (2396)</td>\n",
       "      <td>7.7% (33908)</td>\n",
       "    </tr>\n",
       "    <tr>\n",
       "      <th>New_Adult</th>\n",
       "      <td>6.9% (766)</td>\n",
       "      <td>1.0% (176)</td>\n",
       "      <td>0.7% (3072)</td>\n",
       "    </tr>\n",
       "    <tr>\n",
       "      <th>Young_Adult</th>\n",
       "      <td>6.8% (748)</td>\n",
       "      <td>9.1% (1684)</td>\n",
       "      <td>4.6% (20015)</td>\n",
       "    </tr>\n",
       "    <tr>\n",
       "      <th>Thriller</th>\n",
       "      <td>5.9% (646)</td>\n",
       "      <td>6.9% (1279)</td>\n",
       "      <td>5.7% (24939)</td>\n",
       "    </tr>\n",
       "    <tr>\n",
       "      <th>Mystery</th>\n",
       "      <td>5.6% (621)</td>\n",
       "      <td>5.1% (940)</td>\n",
       "      <td>4.7% (20512)</td>\n",
       "    </tr>\n",
       "    <tr>\n",
       "      <th>Vampires</th>\n",
       "      <td>5.4% (600)</td>\n",
       "      <td>0.0% (0)</td>\n",
       "      <td>0.0% (0)</td>\n",
       "    </tr>\n",
       "    <tr>\n",
       "      <th>Horror</th>\n",
       "      <td>4.1% (448)</td>\n",
       "      <td>3.7% (687)</td>\n",
       "      <td>3.8% (16904)</td>\n",
       "    </tr>\n",
       "    <tr>\n",
       "      <th>Teen</th>\n",
       "      <td>3.9% (430)</td>\n",
       "      <td>9.2% (1688)</td>\n",
       "      <td>4.6% (20165)</td>\n",
       "    </tr>\n",
       "    <tr>\n",
       "      <th>Adventure</th>\n",
       "      <td>3.5% (390)</td>\n",
       "      <td>11.1% (2047)</td>\n",
       "      <td>7.1% (31131)</td>\n",
       "    </tr>\n",
       "    <tr>\n",
       "      <th>Other</th>\n",
       "      <td>3.3% (360)</td>\n",
       "      <td>0.1% (21)</td>\n",
       "      <td>0.3% (1155)</td>\n",
       "    </tr>\n",
       "    <tr>\n",
       "      <th>Literature</th>\n",
       "      <td>3.0% (330)</td>\n",
       "      <td>3.1% (562)</td>\n",
       "      <td>2.6% (11322)</td>\n",
       "    </tr>\n",
       "    <tr>\n",
       "      <th>Humor</th>\n",
       "      <td>2.4% (265)</td>\n",
       "      <td>3.9% (726)</td>\n",
       "      <td>3.0% (13114)</td>\n",
       "    </tr>\n",
       "    <tr>\n",
       "      <th>Historical</th>\n",
       "      <td>1.6% (178)</td>\n",
       "      <td>4.5% (828)</td>\n",
       "      <td>4.5% (19855)</td>\n",
       "    </tr>\n",
       "    <tr>\n",
       "      <th>Themes</th>\n",
       "      <td>0.5% (51)</td>\n",
       "      <td>1.3% (248)</td>\n",
       "      <td>1.5% (6595)</td>\n",
       "    </tr>\n",
       "  </tbody>\n",
       "</table>"
      ],
      "text/plain": [
       "<IPython.core.display.HTML object>"
      ]
     },
     "metadata": {},
     "output_type": "display_data"
    }
   ],
   "source": [
    "# Genre distribution in original BookCorpus\n",
    "genre_df = pd.DataFrame(bc_books.category.value_counts())\n",
    "genre_df.columns = ['BookCorpusN']\n",
    "genre_df['BookCorpusP'] = (genre_df.BookCorpusN/genre_df.BookCorpusN.sum()*100).round(1).astype(str)+'%'\n",
    "genre_df['BookCorpus'] = genre_df.BookCorpusP + ' (' + genre_df.BookCorpusN.astype(str) + ')'\n",
    "\n",
    "\n",
    "# BookCorpusOpen\n",
    "genre_df['BookCorpusOpenN'] = ''\n",
    "for genre in genre_df.index.tolist():\n",
    "    g=genre.replace('_',' ')\n",
    "    genre_df.at[genre,'BookCorpusOpenN'] = len(sw_books[(sw_books.in_bcopen==True)&(sw_books.Categories.str.contains(g,case=False))])\n",
    "\n",
    "total_bcopen = len(sw_books[(sw_books.in_bcopen==True)])\n",
    "genre_df.BookCorpusOpenN = genre_df.BookCorpusOpenN.astype(int)\n",
    "genre_df['BookCorpusOpenP'] = (genre_df.BookCorpusOpenN/total_bcopen*100).round(1).astype(str)+'%'\n",
    "genre_df['BookCorpusOpen'] = genre_df.BookCorpusOpenP + ' (' + genre_df.BookCorpusOpenN.astype(str) + ')'\n",
    "\n",
    "\n",
    "\n",
    "# Smashwords21\n",
    "genre_df['Smashwords21'] = ''\n",
    "for genre in genre_df.index.tolist():\n",
    "    g=genre.replace('_',' ')\n",
    "    genre_df.at[genre,'Smashwords21N'] = len(sw_books[sw_books.Categories.str.contains(g,case=False)])\n",
    "\n",
    "    \n",
    "total_smashwords = len(sw_books)\n",
    "genre_df.Smashwords21N = genre_df.Smashwords21N.astype(int)\n",
    "genre_df['Smashwords21P'] = (genre_df.Smashwords21N/total_smashwords*100).round(1).astype(str)+'%'\n",
    "genre_df['Smashwords21'] = genre_df.Smashwords21P + ' (' + genre_df.Smashwords21N.astype(str) + ')'\n",
    "\n",
    "\n",
    "\n",
    "to_print = genre_df[['BookCorpus','BookCorpusOpen','Smashwords21']]\n",
    "display(HTML(to_print.to_html()))"
   ]
  },
  {
   "cell_type": "markdown",
   "metadata": {},
   "source": [
    "#### Religious Viewpoint Distribution"
   ]
  },
  {
   "cell_type": "code",
   "execution_count": 36,
   "metadata": {},
   "outputs": [],
   "source": [
    "# based on recommendations by Dhamala and Sun et al. https://dl.acm.org/doi/abs/10.1145/3442188.3445924\n",
    "religion_list = ['Sikhism', 'Judaism', 'Islam', 'Hinduism', 'Christianity', 'Buddhism', 'Atheism']\n",
    "\n",
    "religion_df = pd.DataFrame(columns=['BookCorpus','BookCorpusOpen','Smashwords21'],index=religion_list)"
   ]
  },
  {
   "cell_type": "code",
   "execution_count": 37,
   "metadata": {},
   "outputs": [
    {
     "data": {
      "text/html": [
       "<div>\n",
       "<style scoped>\n",
       "    .dataframe tbody tr th:only-of-type {\n",
       "        vertical-align: middle;\n",
       "    }\n",
       "\n",
       "    .dataframe tbody tr th {\n",
       "        vertical-align: top;\n",
       "    }\n",
       "\n",
       "    .dataframe thead th {\n",
       "        text-align: right;\n",
       "    }\n",
       "</style>\n",
       "<table border=\"1\" class=\"dataframe\">\n",
       "  <thead>\n",
       "    <tr style=\"text-align: right;\">\n",
       "      <th></th>\n",
       "      <th>BookCorpus</th>\n",
       "      <th>BookCorpusOpen</th>\n",
       "      <th>Smashwords21</th>\n",
       "    </tr>\n",
       "  </thead>\n",
       "  <tbody>\n",
       "    <tr>\n",
       "      <th>Sikhism</th>\n",
       "      <td>NaN</td>\n",
       "      <td>0</td>\n",
       "      <td>16</td>\n",
       "    </tr>\n",
       "    <tr>\n",
       "      <th>Judaism</th>\n",
       "      <td>NaN</td>\n",
       "      <td>19</td>\n",
       "      <td>400</td>\n",
       "    </tr>\n",
       "    <tr>\n",
       "      <th>Islam</th>\n",
       "      <td>NaN</td>\n",
       "      <td>238</td>\n",
       "      <td>1372</td>\n",
       "    </tr>\n",
       "    <tr>\n",
       "      <th>Hinduism</th>\n",
       "      <td>NaN</td>\n",
       "      <td>12</td>\n",
       "      <td>273</td>\n",
       "    </tr>\n",
       "    <tr>\n",
       "      <th>Christianity</th>\n",
       "      <td>NaN</td>\n",
       "      <td>161</td>\n",
       "      <td>2851</td>\n",
       "    </tr>\n",
       "    <tr>\n",
       "      <th>Buddhism</th>\n",
       "      <td>NaN</td>\n",
       "      <td>33</td>\n",
       "      <td>541</td>\n",
       "    </tr>\n",
       "    <tr>\n",
       "      <th>Atheism</th>\n",
       "      <td>NaN</td>\n",
       "      <td>18</td>\n",
       "      <td>183</td>\n",
       "    </tr>\n",
       "  </tbody>\n",
       "</table>\n",
       "</div>"
      ],
      "text/plain": [
       "             BookCorpus BookCorpusOpen Smashwords21\n",
       "Sikhism             NaN              0           16\n",
       "Judaism             NaN             19          400\n",
       "Islam               NaN            238         1372\n",
       "Hinduism            NaN             12          273\n",
       "Christianity        NaN            161         2851\n",
       "Buddhism            NaN             33          541\n",
       "Atheism             NaN             18          183"
      ]
     },
     "execution_count": 37,
     "metadata": {},
     "output_type": "execute_result"
    }
   ],
   "source": [
    "for religion in religion_list:\n",
    "    religion_df.at[religion,'BookCorpusOpen'] = len(sw_books[(sw_books.in_bcopen==True)&(sw_books.Categories.str.contains(religion,case=False))])\n",
    "    religion_df.at[religion,'Smashwords21'] = len(sw_books[sw_books.Categories.str.contains(religion,case=False)])\n",
    "    \n",
    "religion_df"
   ]
  }
 ],
 "metadata": {
  "kernelspec": {
   "display_name": "Python 3",
   "language": "python",
   "name": "python3"
  },
  "language_info": {
   "codemirror_mode": {
    "name": "ipython",
    "version": 3
   },
   "file_extension": ".py",
   "mimetype": "text/x-python",
   "name": "python",
   "nbconvert_exporter": "python",
   "pygments_lexer": "ipython3",
   "version": "3.7.6"
  }
 },
 "nbformat": 4,
 "nbformat_minor": 4
}
