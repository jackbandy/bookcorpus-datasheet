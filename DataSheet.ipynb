{
 "cells": [
  {
   "cell_type": "code",
   "execution_count": 1,
   "metadata": {},
   "outputs": [],
   "source": [
    "# import libraries and read in data\n",
    "import pandas as pd\n",
    "from IPython.display import display, HTML\n",
    "\n",
    "# BookCorpus, from directory downloaded from https://yknzhu.wixsite.com/mbweb\n",
    "bc_books = pd.read_csv('data/BookCorpus/books_in_bookcorpus.csv')\n",
    "\n",
    "# BookCorpusOpen, downloaded from https://huggingface.co/datasets/bookcorpusopen\n",
    "bcopen_books = pd.read_csv('data/BookCorpusOpen/2020-08-27-epub_urls.txt',header=None,names=['EpubLink'])\n",
    "\n",
    "# Smashwords, scraped from smashwords.com in April 2021\n",
    "sw_thru14 = pd.read_csv('data/Smashwords/smashwords_thru_2014.csv')\n",
    "sw_after14 = pd.read_csv('data/Smashwords/smashwords_after_2014.csv')\n",
    "sw_books = pd.concat([sw_thru14,sw_after14])"
   ]
  },
  {
   "cell_type": "code",
   "execution_count": 2,
   "metadata": {},
   "outputs": [],
   "source": [
    "# merge data for clearer processing\n",
    "bcopen_books['smashwords_id'] = bcopen_books.EpubLink.str.split('/',expand=True)[5]\n",
    "bcopen_books['in_bcopen'] = True\n",
    "\n",
    "sw_books['smashwords_id'] = sw_books.Link.str.split('/',expand=True)[5]\n",
    "sw_books = sw_books.merge(bcopen_books, how='outer',on='smashwords_id')\n",
    "sw_books.fillna(value='',inplace=True)"
   ]
  },
  {
   "cell_type": "markdown",
   "metadata": {},
   "source": [
    "## General Composition"
   ]
  },
  {
   "cell_type": "code",
   "execution_count": 3,
   "metadata": {},
   "outputs": [
    {
     "name": "stdout",
     "output_type": "stream",
     "text": [
      "11040\n"
     ]
    }
   ],
   "source": [
    "# How many instances (books) are there in total?\n",
    "print(len(bc_books))"
   ]
  },
  {
   "cell_type": "code",
   "execution_count": 4,
   "metadata": {},
   "outputs": [],
   "source": [
    "# To align with the 11,038 reported by Zhu and Kiros et al., remove \"adventure-all.txt\" and \"romance-all.txt\"\n",
    "extra_books = bc_books[(bc_books.fname.str.contains('adventure-all.txt')|bc_books.fname.str.contains('romance-all.txt'))]\n",
    "bc_books = bc_books[~(bc_books.fname.str.contains('adventure-all.txt')|bc_books.fname.str.contains('romance-all.txt'))]"
   ]
  },
  {
   "cell_type": "code",
   "execution_count": 5,
   "metadata": {},
   "outputs": [
    {
     "data": {
      "text/plain": [
       "11038"
      ]
     },
     "execution_count": 5,
     "metadata": {},
     "output_type": "execute_result"
    }
   ],
   "source": [
    "len(bc_books)"
   ]
  },
  {
   "cell_type": "code",
   "execution_count": 6,
   "metadata": {},
   "outputs": [
    {
     "data": {
      "text/plain": [
       "7189"
      ]
     },
     "execution_count": 6,
     "metadata": {},
     "output_type": "execute_result"
    }
   ],
   "source": [
    "# How many unique books are there in total?\n",
    "# Base this on the fingerprint of each entry: filename + word count + disk usage\n",
    "bc_books_unique=bc_books.drop_duplicates(subset=['fname','word_count','disk_usage'])\n",
    "len(bc_books_unique)"
   ]
  },
  {
   "cell_type": "code",
   "execution_count": 7,
   "metadata": {},
   "outputs": [
    {
     "data": {
      "text/plain": [
       "811601031"
      ]
     },
     "execution_count": 7,
     "metadata": {},
     "output_type": "execute_result"
    }
   ],
   "source": [
    "# How many words in the files?\n",
    "bc_books.word_count.sum()"
   ]
  },
  {
   "cell_type": "code",
   "execution_count": 8,
   "metadata": {},
   "outputs": [
    {
     "data": {
      "text/plain": [
       "1042409939"
      ]
     },
     "execution_count": 8,
     "metadata": {},
     "output_type": "execute_result"
    }
   ],
   "source": [
    "# Zhu and Kiros et al. report 984,846,357, so this does not align\n",
    "# For now, we hypothesize that this is due to empty text files\n",
    "# e.g. 'All_I_Want_for_Christmas_Is_a_Vampire.txt' is empty in the download from https://yknzhu.wixsite.com/mbweb\n",
    "\n",
    "# If we add the words from the \"extra books,\" the word count exceeds the original reported\n",
    "extra_books.word_count.sum() + bc_books.word_count.sum()"
   ]
  },
  {
   "cell_type": "markdown",
   "metadata": {},
   "source": [
    "## Duplicate Listings"
   ]
  },
  {
   "cell_type": "code",
   "execution_count": 9,
   "metadata": {},
   "outputs": [
    {
     "data": {
      "text/plain": [
       "3849"
      ]
     },
     "execution_count": 9,
     "metadata": {},
     "output_type": "execute_result"
    }
   ],
   "source": [
    "# How many listings may be duplicated?\n",
    "# (based on the filename + word count + disk usage fingerprint)\n",
    "len(bc_books) - len(bc_books_unique)"
   ]
  },
  {
   "cell_type": "code",
   "execution_count": 10,
   "metadata": {},
   "outputs": [
    {
     "name": "stdout",
     "output_type": "stream",
     "text": [
      "2930\n"
     ]
    }
   ],
   "source": [
    "# Look for filenames occuring multiple times\n",
    "potential_dups = pd.DataFrame(bc_books.fname.value_counts())\n",
    "potential_dups.columns = ['n']\n",
    "potential_dups=potential_dups[potential_dups.n>1]\n",
    "\n",
    "# how many file names occur multiple times?\n",
    "print(len(potential_dups))"
   ]
  },
  {
   "cell_type": "code",
   "execution_count": 11,
   "metadata": {},
   "outputs": [
    {
     "name": "stdout",
     "output_type": "stream",
     "text": [
      "File name: 347487.txt\n",
      "2 Occurrences:\n"
     ]
    },
    {
     "data": {
      "text/html": [
       "<table border=\"1\" class=\"dataframe\">\n",
       "  <thead>\n",
       "    <tr style=\"text-align: right;\">\n",
       "      <th></th>\n",
       "      <th>location</th>\n",
       "      <th>category</th>\n",
       "      <th>fname</th>\n",
       "      <th>word_count</th>\n",
       "      <th>disk_usage</th>\n",
       "    </tr>\n",
       "  </thead>\n",
       "  <tbody>\n",
       "    <tr>\n",
       "      <th>2828</th>\n",
       "      <td>./Humor/347487.txt</td>\n",
       "      <td>Humor</td>\n",
       "      <td>347487.txt</td>\n",
       "      <td>42903</td>\n",
       "      <td>236K</td>\n",
       "    </tr>\n",
       "    <tr>\n",
       "      <th>2829</th>\n",
       "      <td>./Teen/347487.txt</td>\n",
       "      <td>Teen</td>\n",
       "      <td>347487.txt</td>\n",
       "      <td>42903</td>\n",
       "      <td>236K</td>\n",
       "    </tr>\n",
       "  </tbody>\n",
       "</table>"
      ],
      "text/plain": [
       "<IPython.core.display.HTML object>"
      ]
     },
     "metadata": {},
     "output_type": "display_data"
    },
    {
     "name": "stdout",
     "output_type": "stream",
     "text": [
      "File name: 20201.txt\n",
      "2 Occurrences:\n"
     ]
    },
    {
     "data": {
      "text/html": [
       "<table border=\"1\" class=\"dataframe\">\n",
       "  <thead>\n",
       "    <tr style=\"text-align: right;\">\n",
       "      <th></th>\n",
       "      <th>location</th>\n",
       "      <th>category</th>\n",
       "      <th>fname</th>\n",
       "      <th>word_count</th>\n",
       "      <th>disk_usage</th>\n",
       "    </tr>\n",
       "  </thead>\n",
       "  <tbody>\n",
       "    <tr>\n",
       "      <th>9904</th>\n",
       "      <td>./Horror/20201.txt</td>\n",
       "      <td>Horror</td>\n",
       "      <td>20201.txt</td>\n",
       "      <td>120324</td>\n",
       "      <td>668K</td>\n",
       "    </tr>\n",
       "    <tr>\n",
       "      <th>9905</th>\n",
       "      <td>./Mystery/20201.txt</td>\n",
       "      <td>Mystery</td>\n",
       "      <td>20201.txt</td>\n",
       "      <td>120324</td>\n",
       "      <td>668K</td>\n",
       "    </tr>\n",
       "  </tbody>\n",
       "</table>"
      ],
      "text/plain": [
       "<IPython.core.display.HTML object>"
      ]
     },
     "metadata": {},
     "output_type": "display_data"
    },
    {
     "name": "stdout",
     "output_type": "stream",
     "text": [
      "File name: Ruby_Red_Trilogy-1.txt\n",
      "3 Occurrences:\n"
     ]
    },
    {
     "data": {
      "text/html": [
       "<table border=\"1\" class=\"dataframe\">\n",
       "  <thead>\n",
       "    <tr style=\"text-align: right;\">\n",
       "      <th></th>\n",
       "      <th>location</th>\n",
       "      <th>category</th>\n",
       "      <th>fname</th>\n",
       "      <th>word_count</th>\n",
       "      <th>disk_usage</th>\n",
       "    </tr>\n",
       "  </thead>\n",
       "  <tbody>\n",
       "    <tr>\n",
       "      <th>5779</th>\n",
       "      <td>./Fantasy/Ruby_Red_Trilogy-1.txt</td>\n",
       "      <td>Fantasy</td>\n",
       "      <td>Ruby_Red_Trilogy-1.txt</td>\n",
       "      <td>73422</td>\n",
       "      <td>400K</td>\n",
       "    </tr>\n",
       "    <tr>\n",
       "      <th>5780</th>\n",
       "      <td>./Romance/Ruby_Red_Trilogy-1.txt</td>\n",
       "      <td>Romance</td>\n",
       "      <td>Ruby_Red_Trilogy-1.txt</td>\n",
       "      <td>73422</td>\n",
       "      <td>400K</td>\n",
       "    </tr>\n",
       "    <tr>\n",
       "      <th>5781</th>\n",
       "      <td>./Young_Adult/Ruby_Red_Trilogy-1.txt</td>\n",
       "      <td>Young_Adult</td>\n",
       "      <td>Ruby_Red_Trilogy-1.txt</td>\n",
       "      <td>73422</td>\n",
       "      <td>400K</td>\n",
       "    </tr>\n",
       "  </tbody>\n",
       "</table>"
      ],
      "text/plain": [
       "<IPython.core.display.HTML object>"
      ]
     },
     "metadata": {},
     "output_type": "display_data"
    },
    {
     "name": "stdout",
     "output_type": "stream",
     "text": [
      "File name: 486890.txt\n",
      "2 Occurrences:\n"
     ]
    },
    {
     "data": {
      "text/html": [
       "<table border=\"1\" class=\"dataframe\">\n",
       "  <thead>\n",
       "    <tr style=\"text-align: right;\">\n",
       "      <th></th>\n",
       "      <th>location</th>\n",
       "      <th>category</th>\n",
       "      <th>fname</th>\n",
       "      <th>word_count</th>\n",
       "      <th>disk_usage</th>\n",
       "    </tr>\n",
       "  </thead>\n",
       "  <tbody>\n",
       "    <tr>\n",
       "      <th>2413</th>\n",
       "      <td>./Fantasy/486890.txt</td>\n",
       "      <td>Fantasy</td>\n",
       "      <td>486890.txt</td>\n",
       "      <td>37493</td>\n",
       "      <td>192K</td>\n",
       "    </tr>\n",
       "    <tr>\n",
       "      <th>2414</th>\n",
       "      <td>./Teen/486890.txt</td>\n",
       "      <td>Teen</td>\n",
       "      <td>486890.txt</td>\n",
       "      <td>37493</td>\n",
       "      <td>192K</td>\n",
       "    </tr>\n",
       "  </tbody>\n",
       "</table>"
      ],
      "text/plain": [
       "<IPython.core.display.HTML object>"
      ]
     },
     "metadata": {},
     "output_type": "display_data"
    },
    {
     "name": "stdout",
     "output_type": "stream",
     "text": [
      "File name: 488068.txt\n",
      "2 Occurrences:\n"
     ]
    },
    {
     "data": {
      "text/html": [
       "<table border=\"1\" class=\"dataframe\">\n",
       "  <thead>\n",
       "    <tr style=\"text-align: right;\">\n",
       "      <th></th>\n",
       "      <th>location</th>\n",
       "      <th>category</th>\n",
       "      <th>fname</th>\n",
       "      <th>word_count</th>\n",
       "      <th>disk_usage</th>\n",
       "    </tr>\n",
       "  </thead>\n",
       "  <tbody>\n",
       "    <tr>\n",
       "      <th>9860</th>\n",
       "      <td>./Fantasy/488068.txt</td>\n",
       "      <td>Fantasy</td>\n",
       "      <td>488068.txt</td>\n",
       "      <td>118992</td>\n",
       "      <td>632K</td>\n",
       "    </tr>\n",
       "    <tr>\n",
       "      <th>9861</th>\n",
       "      <td>./Teen/488068.txt</td>\n",
       "      <td>Teen</td>\n",
       "      <td>488068.txt</td>\n",
       "      <td>118992</td>\n",
       "      <td>632K</td>\n",
       "    </tr>\n",
       "  </tbody>\n",
       "</table>"
      ],
      "text/plain": [
       "<IPython.core.display.HTML object>"
      ]
     },
     "metadata": {},
     "output_type": "display_data"
    }
   ],
   "source": [
    "# for now, remove filenames with unknown name scheme (e.g. 'u3041.txt', 'et4358.txt', 'b5096.txt')\n",
    "named_dups=potential_dups[~potential_dups.index.str.match(r'(u|et|b)')]\n",
    "\n",
    "# inspect 5 random filenames occuring multiple times, inspect listings\n",
    "for index, row in named_dups.sample(5).iterrows():\n",
    "    print(\"File name: {}\".format(index))\n",
    "    print(\"{} Occurrences:\".format(len(bc_books[bc_books.fname==index])))\n",
    "    display(HTML(bc_books[bc_books.fname==index].to_html()))"
   ]
  },
  {
   "cell_type": "markdown",
   "metadata": {},
   "source": [
    "## Sample Comparisons"
   ]
  },
  {
   "cell_type": "markdown",
   "metadata": {},
   "source": [
    "#### Genre Distribution"
   ]
  },
  {
   "cell_type": "code",
   "execution_count": 12,
   "metadata": {},
   "outputs": [
    {
     "data": {
      "text/html": [
       "<table border=\"1\" class=\"dataframe\">\n",
       "  <thead>\n",
       "    <tr style=\"text-align: right;\">\n",
       "      <th></th>\n",
       "      <th>BookCorpus</th>\n",
       "      <th>BookCorpusOpen</th>\n",
       "      <th>Smashwords21</th>\n",
       "    </tr>\n",
       "  </thead>\n",
       "  <tbody>\n",
       "    <tr>\n",
       "      <th>Romance</th>\n",
       "      <td>26.1% (2880)</td>\n",
       "      <td>18.1% (3266)</td>\n",
       "      <td>16.2% (62775)</td>\n",
       "    </tr>\n",
       "    <tr>\n",
       "      <th>Fantasy</th>\n",
       "      <td>13.6% (1502)</td>\n",
       "      <td>17.2% (3107)</td>\n",
       "      <td>10.7% (41460)</td>\n",
       "    </tr>\n",
       "    <tr>\n",
       "      <th>Science_fiction</th>\n",
       "      <td>7.5% (823)</td>\n",
       "      <td>13.2% (2385)</td>\n",
       "      <td>7.8% (30421)</td>\n",
       "    </tr>\n",
       "    <tr>\n",
       "      <th>New_Adult</th>\n",
       "      <td>6.9% (766)</td>\n",
       "      <td>1.0% (178)</td>\n",
       "      <td>0.7% (2745)</td>\n",
       "    </tr>\n",
       "    <tr>\n",
       "      <th>Young_Adult</th>\n",
       "      <td>6.8% (748)</td>\n",
       "      <td>9.4% (1693)</td>\n",
       "      <td>4.6% (17953)</td>\n",
       "    </tr>\n",
       "    <tr>\n",
       "      <th>Thriller</th>\n",
       "      <td>5.9% (646)</td>\n",
       "      <td>7.1% (1283)</td>\n",
       "      <td>5.7% (22078)</td>\n",
       "    </tr>\n",
       "    <tr>\n",
       "      <th>Mystery</th>\n",
       "      <td>5.6% (621)</td>\n",
       "      <td>5.2% (935)</td>\n",
       "      <td>4.7% (18258)</td>\n",
       "    </tr>\n",
       "    <tr>\n",
       "      <th>Vampires</th>\n",
       "      <td>5.4% (600)</td>\n",
       "      <td>0.0% (0)</td>\n",
       "      <td>0.0% (0)</td>\n",
       "    </tr>\n",
       "    <tr>\n",
       "      <th>Horror</th>\n",
       "      <td>4.1% (448)</td>\n",
       "      <td>3.8% (686)</td>\n",
       "      <td>3.9% (15070)</td>\n",
       "    </tr>\n",
       "    <tr>\n",
       "      <th>Teen</th>\n",
       "      <td>3.9% (430)</td>\n",
       "      <td>9.4% (1697)</td>\n",
       "      <td>4.7% (18083)</td>\n",
       "    </tr>\n",
       "    <tr>\n",
       "      <th>Adventure</th>\n",
       "      <td>3.5% (390)</td>\n",
       "      <td>11.3% (2036)</td>\n",
       "      <td>7.1% (27718)</td>\n",
       "    </tr>\n",
       "    <tr>\n",
       "      <th>Other</th>\n",
       "      <td>3.3% (360)</td>\n",
       "      <td>0.1% (18)</td>\n",
       "      <td>0.3% (1011)</td>\n",
       "    </tr>\n",
       "    <tr>\n",
       "      <th>Literature</th>\n",
       "      <td>3.0% (330)</td>\n",
       "      <td>3.1% (553)</td>\n",
       "      <td>2.6% (9966)</td>\n",
       "    </tr>\n",
       "    <tr>\n",
       "      <th>Humor</th>\n",
       "      <td>2.4% (265)</td>\n",
       "      <td>4.0% (715)</td>\n",
       "      <td>3.0% (11650)</td>\n",
       "    </tr>\n",
       "    <tr>\n",
       "      <th>Historical</th>\n",
       "      <td>1.6% (178)</td>\n",
       "      <td>4.5% (821)</td>\n",
       "      <td>4.6% (17786)</td>\n",
       "    </tr>\n",
       "    <tr>\n",
       "      <th>Themes</th>\n",
       "      <td>0.5% (51)</td>\n",
       "      <td>1.3% (239)</td>\n",
       "      <td>1.5% (5803)</td>\n",
       "    </tr>\n",
       "  </tbody>\n",
       "</table>"
      ],
      "text/plain": [
       "<IPython.core.display.HTML object>"
      ]
     },
     "metadata": {},
     "output_type": "display_data"
    }
   ],
   "source": [
    "# Genre distribution in original BookCorpus\n",
    "genre_df = pd.DataFrame(bc_books.category.value_counts())\n",
    "genre_df.columns = ['BookCorpusN']\n",
    "genre_df['BookCorpusP'] = (genre_df.BookCorpusN/genre_df.BookCorpusN.sum()*100).round(1).astype(str)+'%'\n",
    "genre_df['BookCorpus'] = genre_df.BookCorpusP + ' (' + genre_df.BookCorpusN.astype(str) + ')'\n",
    "\n",
    "\n",
    "# BookCorpusOpen\n",
    "genre_df['BookCorpusOpenN'] = ''\n",
    "for genre in genre_df.index.tolist():\n",
    "    g=genre.replace('_',' ')\n",
    "    genre_df.at[genre,'BookCorpusOpenN'] = len(sw_books[(sw_books.in_bcopen==True)&(sw_books.Categories.str.contains(g,case=False))])\n",
    "\n",
    "total_bcopen = len(sw_books[(sw_books.in_bcopen==True)])\n",
    "genre_df.BookCorpusOpenN = genre_df.BookCorpusOpenN.astype(int)\n",
    "genre_df['BookCorpusOpenP'] = (genre_df.BookCorpusOpenN/total_bcopen*100).round(1).astype(str)+'%'\n",
    "genre_df['BookCorpusOpen'] = genre_df.BookCorpusOpenP + ' (' + genre_df.BookCorpusOpenN.astype(str) + ')'\n",
    "\n",
    "\n",
    "\n",
    "# Smashwords21\n",
    "genre_df['Smashwords21'] = ''\n",
    "for genre in genre_df.index.tolist():\n",
    "    g=genre.replace('_',' ')\n",
    "    genre_df.at[genre,'Smashwords21N'] = len(sw_books[sw_books.Categories.str.contains(g,case=False)])\n",
    "\n",
    "    \n",
    "total_smashwords = len(sw_books)\n",
    "genre_df.Smashwords21N = genre_df.Smashwords21N.astype(int)\n",
    "genre_df['Smashwords21P'] = (genre_df.Smashwords21N/total_smashwords*100).round(1).astype(str)+'%'\n",
    "genre_df['Smashwords21'] = genre_df.Smashwords21P + ' (' + genre_df.Smashwords21N.astype(str) + ')'\n",
    "\n",
    "\n",
    "\n",
    "to_print = genre_df[['BookCorpus','BookCorpusOpen','Smashwords21']]\n",
    "display(HTML(to_print.to_html()))"
   ]
  },
  {
   "cell_type": "markdown",
   "metadata": {},
   "source": [
    "#### Religious Viewpoint Distribution"
   ]
  },
  {
   "cell_type": "code",
   "execution_count": 13,
   "metadata": {},
   "outputs": [],
   "source": [
    "# based on recommendations by Dhamala and Sun et al. https://dl.acm.org/doi/abs/10.1145/3442188.3445924\n",
    "religion_list = ['Sikhism', 'Judaism', 'Islam', 'Hinduism', 'Christianity', 'Buddhism', 'Atheism']\n",
    "\n",
    "religion_df = pd.DataFrame(columns=['BookCorpus','BookCorpusOpen','Smashwords21'],index=religion_list)"
   ]
  },
  {
   "cell_type": "code",
   "execution_count": 14,
   "metadata": {},
   "outputs": [
    {
     "data": {
      "text/html": [
       "<div>\n",
       "<style scoped>\n",
       "    .dataframe tbody tr th:only-of-type {\n",
       "        vertical-align: middle;\n",
       "    }\n",
       "\n",
       "    .dataframe tbody tr th {\n",
       "        vertical-align: top;\n",
       "    }\n",
       "\n",
       "    .dataframe thead th {\n",
       "        text-align: right;\n",
       "    }\n",
       "</style>\n",
       "<table border=\"1\" class=\"dataframe\">\n",
       "  <thead>\n",
       "    <tr style=\"text-align: right;\">\n",
       "      <th></th>\n",
       "      <th>BookCorpus</th>\n",
       "      <th>BookCorpusOpen</th>\n",
       "      <th>Smashwords21</th>\n",
       "    </tr>\n",
       "  </thead>\n",
       "  <tbody>\n",
       "    <tr>\n",
       "      <th>Sikhism</th>\n",
       "      <td>NaN</td>\n",
       "      <td>0</td>\n",
       "      <td>15</td>\n",
       "    </tr>\n",
       "    <tr>\n",
       "      <th>Judaism</th>\n",
       "      <td>NaN</td>\n",
       "      <td>18</td>\n",
       "      <td>348</td>\n",
       "    </tr>\n",
       "    <tr>\n",
       "      <th>Islam</th>\n",
       "      <td>NaN</td>\n",
       "      <td>236</td>\n",
       "      <td>1263</td>\n",
       "    </tr>\n",
       "    <tr>\n",
       "      <th>Hinduism</th>\n",
       "      <td>NaN</td>\n",
       "      <td>11</td>\n",
       "      <td>244</td>\n",
       "    </tr>\n",
       "    <tr>\n",
       "      <th>Christianity</th>\n",
       "      <td>NaN</td>\n",
       "      <td>162</td>\n",
       "      <td>2544</td>\n",
       "    </tr>\n",
       "    <tr>\n",
       "      <th>Buddhism</th>\n",
       "      <td>NaN</td>\n",
       "      <td>32</td>\n",
       "      <td>485</td>\n",
       "    </tr>\n",
       "    <tr>\n",
       "      <th>Atheism</th>\n",
       "      <td>NaN</td>\n",
       "      <td>18</td>\n",
       "      <td>163</td>\n",
       "    </tr>\n",
       "  </tbody>\n",
       "</table>\n",
       "</div>"
      ],
      "text/plain": [
       "             BookCorpus BookCorpusOpen Smashwords21\n",
       "Sikhism             NaN              0           15\n",
       "Judaism             NaN             18          348\n",
       "Islam               NaN            236         1263\n",
       "Hinduism            NaN             11          244\n",
       "Christianity        NaN            162         2544\n",
       "Buddhism            NaN             32          485\n",
       "Atheism             NaN             18          163"
      ]
     },
     "execution_count": 14,
     "metadata": {},
     "output_type": "execute_result"
    }
   ],
   "source": [
    "for religion in religion_list:\n",
    "    religion_df.at[religion,'BookCorpusOpen'] = len(sw_books[(sw_books.in_bcopen==True)&(sw_books.Categories.str.contains(religion,case=False))])\n",
    "    religion_df.at[religion,'Smashwords21'] = len(sw_books[sw_books.Categories.str.contains(religion,case=False)])\n",
    "    \n",
    "religion_df"
   ]
  },
  {
   "cell_type": "code",
   "execution_count": null,
   "metadata": {},
   "outputs": [],
   "source": []
  }
 ],
 "metadata": {
  "kernelspec": {
   "display_name": "Python 3",
   "language": "python",
   "name": "python3"
  },
  "language_info": {
   "codemirror_mode": {
    "name": "ipython",
    "version": 3
   },
   "file_extension": ".py",
   "mimetype": "text/x-python",
   "name": "python",
   "nbconvert_exporter": "python",
   "pygments_lexer": "ipython3",
   "version": "3.7.6"
  }
 },
 "nbformat": 4,
 "nbformat_minor": 4
}
