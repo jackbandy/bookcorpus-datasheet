{
 "cells": [
  {
   "cell_type": "code",
   "execution_count": 50,
   "metadata": {},
   "outputs": [],
   "source": [
    "# import libraries and read in data\n",
    "import pandas as pd\n",
    "from IPython.display import display, HTML\n",
    "\n",
    "# BookCorpus metadata, from files downloaded directly from https://yknzhu.wixsite.com/mbweb\n",
    "bc_books = pd.read_csv('data/BookCorpus/books_in_bookcorpus.csv')\n",
    "\n",
    "# BookCorpusOpen url list, downloaded from https://huggingface.co/datasets/bookcorpusopen\n",
    "bcopen_books = pd.read_csv('data/BookCorpusOpen/2020-08-27-epub_urls.txt',header=None,names=['EpubLink'])\n",
    "\n",
    "# Smashwords21, scraped from smashwords.com in April 2021\n",
    "sw_books = pd.read_csv('data/Smashwords21/smashwords_april_2021_dedup.csv')\n",
    "sw_books['in_smashwords21'] = True"
   ]
  },
  {
   "cell_type": "code",
   "execution_count": 51,
   "metadata": {},
   "outputs": [],
   "source": [
    "# merge Smashwords21 with BookCorpusOpen\n",
    "\n",
    "# get the \"smashwords id\" and add a field for bcopen\n",
    "bcopen_books['smashwords_id'] = bcopen_books.EpubLink.str.split('/',expand=True)[5]\n",
    "bcopen_books['in_bcopen'] = True\n",
    "\n",
    "# add \"smashwords id\" for smashwords21 and merge\n",
    "sw_books['smashwords_id'] = sw_books.Link.str.split('/',expand=True)[5]\n",
    "sw_books = sw_books.merge(bcopen_books, how='outer',on='smashwords_id')\n",
    "sw_books.fillna(value='',inplace=True)"
   ]
  },
  {
   "cell_type": "code",
   "execution_count": 52,
   "metadata": {},
   "outputs": [],
   "source": [
    "# partially merge Smashwords21 with original BookCorpus\n",
    "bc_books['smashwords_id'] = bc_books.fname.str.replace('.txt','')\n",
    "bc_books['in_bc_books'] = True\n",
    "sw_books = sw_books.merge(bc_books, how='left',on='smashwords_id')"
   ]
  },
  {
   "cell_type": "code",
   "execution_count": 53,
   "metadata": {},
   "outputs": [
    {
     "data": {
      "text/plain": [
       "2680"
      ]
     },
     "execution_count": 53,
     "metadata": {},
     "output_type": "execute_result"
    }
   ],
   "source": [
    "# How many books from BookCorpus were found in Smashwords21 using only the smashwords_id?\n",
    "len(sw_books[sw_books.in_bc_books==True])"
   ]
  },
  {
   "cell_type": "code",
   "execution_count": 54,
   "metadata": {},
   "outputs": [
    {
     "data": {
      "text/html": [
       "<div>\n",
       "<style scoped>\n",
       "    .dataframe tbody tr th:only-of-type {\n",
       "        vertical-align: middle;\n",
       "    }\n",
       "\n",
       "    .dataframe tbody tr th {\n",
       "        vertical-align: top;\n",
       "    }\n",
       "\n",
       "    .dataframe thead th {\n",
       "        text-align: right;\n",
       "    }\n",
       "</style>\n",
       "<table border=\"1\" class=\"dataframe\">\n",
       "  <thead>\n",
       "    <tr style=\"text-align: right;\">\n",
       "      <th></th>\n",
       "      <th>Link</th>\n",
       "      <th>Title</th>\n",
       "      <th>Author</th>\n",
       "      <th>Price</th>\n",
       "      <th>Words</th>\n",
       "      <th>Language</th>\n",
       "      <th>Published</th>\n",
       "      <th>Categories</th>\n",
       "      <th>in_smashwords21</th>\n",
       "      <th>smashwords_id</th>\n",
       "      <th>EpubLink</th>\n",
       "      <th>in_bcopen</th>\n",
       "      <th>location</th>\n",
       "      <th>category</th>\n",
       "      <th>fname</th>\n",
       "      <th>word_count</th>\n",
       "      <th>disk_usage</th>\n",
       "      <th>in_bc_books</th>\n",
       "    </tr>\n",
       "  </thead>\n",
       "  <tbody>\n",
       "    <tr>\n",
       "      <th>24495</th>\n",
       "      <td>https://www.smashwords.com/books/view/432689</td>\n",
       "      <td>Scarlet Runner</td>\n",
       "      <td>Lily Ennis</td>\n",
       "      <td>$0.00 USD</td>\n",
       "      <td>81,640</td>\n",
       "      <td>English</td>\n",
       "      <td>April 26, 2014</td>\n",
       "      <td>Fiction » Historical » Australia &amp; New Zealand...</td>\n",
       "      <td>True</td>\n",
       "      <td>432689</td>\n",
       "      <td>https://www.smashwords.com/books/download/4326...</td>\n",
       "      <td>True</td>\n",
       "      <td>./Historical/432689.txt</td>\n",
       "      <td>Historical</td>\n",
       "      <td>432689.txt</td>\n",
       "      <td>81641.0</td>\n",
       "      <td>464K</td>\n",
       "      <td>True</td>\n",
       "    </tr>\n",
       "    <tr>\n",
       "      <th>85588</th>\n",
       "      <td>https://www.smashwords.com/books/view/344755</td>\n",
       "      <td>The Village Cafe</td>\n",
       "      <td>Eraine Rivera</td>\n",
       "      <td>$0.00 USD</td>\n",
       "      <td>23,280</td>\n",
       "      <td>English</td>\n",
       "      <td>August 6, 2013</td>\n",
       "      <td>Fiction » Horror » Undead</td>\n",
       "      <td>True</td>\n",
       "      <td>344755</td>\n",
       "      <td>https://www.smashwords.com/books/download/3447...</td>\n",
       "      <td>True</td>\n",
       "      <td>./Horror/344755.txt</td>\n",
       "      <td>Horror</td>\n",
       "      <td>344755.txt</td>\n",
       "      <td>23288.0</td>\n",
       "      <td>124K</td>\n",
       "      <td>True</td>\n",
       "    </tr>\n",
       "    <tr>\n",
       "      <th>14685</th>\n",
       "      <td>https://www.smashwords.com/books/view/346868</td>\n",
       "      <td>Under Mary's Oak</td>\n",
       "      <td>Tanya Carlysle</td>\n",
       "      <td>$0.00 USD</td>\n",
       "      <td>49,800</td>\n",
       "      <td>English</td>\n",
       "      <td>August 13, 2013</td>\n",
       "      <td>Fiction » Mystery &amp; detective » Women Sleuths ...</td>\n",
       "      <td>True</td>\n",
       "      <td>346868</td>\n",
       "      <td>https://www.smashwords.com/books/download/3468...</td>\n",
       "      <td>True</td>\n",
       "      <td>./Mystery/346868.txt</td>\n",
       "      <td>Mystery</td>\n",
       "      <td>346868.txt</td>\n",
       "      <td>49801.0</td>\n",
       "      <td>280K</td>\n",
       "      <td>True</td>\n",
       "    </tr>\n",
       "    <tr>\n",
       "      <th>27235</th>\n",
       "      <td>https://www.smashwords.com/books/view/296973</td>\n",
       "      <td>The War Journals: Resistance</td>\n",
       "      <td>Cory Mccoy</td>\n",
       "      <td>$0.00 USD</td>\n",
       "      <td>89,650</td>\n",
       "      <td>English</td>\n",
       "      <td>March 18, 2013</td>\n",
       "      <td>Fiction » Thriller &amp; suspense » Action &amp; suspense</td>\n",
       "      <td>True</td>\n",
       "      <td>296973</td>\n",
       "      <td>https://www.smashwords.com/books/download/2969...</td>\n",
       "      <td>True</td>\n",
       "      <td>./Adventure/296973.txt</td>\n",
       "      <td>Adventure</td>\n",
       "      <td>296973.txt</td>\n",
       "      <td>89647.0</td>\n",
       "      <td>484K</td>\n",
       "      <td>True</td>\n",
       "    </tr>\n",
       "    <tr>\n",
       "      <th>12306</th>\n",
       "      <td>https://www.smashwords.com/books/view/415743</td>\n",
       "      <td>Just One Night</td>\n",
       "      <td>Rachel Lenna</td>\n",
       "      <td>$0.00 USD</td>\n",
       "      <td>21,180</td>\n",
       "      <td>English</td>\n",
       "      <td>March 5, 2014</td>\n",
       "      <td>Fiction » Young adult or teen » Romance , Fict...</td>\n",
       "      <td>True</td>\n",
       "      <td>415743</td>\n",
       "      <td>https://www.smashwords.com/books/download/4157...</td>\n",
       "      <td>True</td>\n",
       "      <td>./Romance/415743.txt</td>\n",
       "      <td>Romance</td>\n",
       "      <td>415743.txt</td>\n",
       "      <td>21185.0</td>\n",
       "      <td>116K</td>\n",
       "      <td>True</td>\n",
       "    </tr>\n",
       "  </tbody>\n",
       "</table>\n",
       "</div>"
      ],
      "text/plain": [
       "                                               Link  \\\n",
       "24495  https://www.smashwords.com/books/view/432689   \n",
       "85588  https://www.smashwords.com/books/view/344755   \n",
       "14685  https://www.smashwords.com/books/view/346868   \n",
       "27235  https://www.smashwords.com/books/view/296973   \n",
       "12306  https://www.smashwords.com/books/view/415743   \n",
       "\n",
       "                              Title          Author      Price   Words  \\\n",
       "24495                Scarlet Runner      Lily Ennis  $0.00 USD  81,640   \n",
       "85588              The Village Cafe   Eraine Rivera  $0.00 USD  23,280   \n",
       "14685              Under Mary's Oak  Tanya Carlysle  $0.00 USD  49,800   \n",
       "27235  The War Journals: Resistance      Cory Mccoy  $0.00 USD  89,650   \n",
       "12306                Just One Night    Rachel Lenna  $0.00 USD  21,180   \n",
       "\n",
       "      Language         Published  \\\n",
       "24495  English   April 26, 2014    \n",
       "85588  English   August 6, 2013    \n",
       "14685  English  August 13, 2013    \n",
       "27235  English   March 18, 2013    \n",
       "12306  English    March 5, 2014    \n",
       "\n",
       "                                              Categories in_smashwords21  \\\n",
       "24495  Fiction » Historical » Australia & New Zealand...            True   \n",
       "85588                          Fiction » Horror » Undead            True   \n",
       "14685  Fiction » Mystery & detective » Women Sleuths ...            True   \n",
       "27235  Fiction » Thriller & suspense » Action & suspense            True   \n",
       "12306  Fiction » Young adult or teen » Romance , Fict...            True   \n",
       "\n",
       "      smashwords_id                                           EpubLink  \\\n",
       "24495        432689  https://www.smashwords.com/books/download/4326...   \n",
       "85588        344755  https://www.smashwords.com/books/download/3447...   \n",
       "14685        346868  https://www.smashwords.com/books/download/3468...   \n",
       "27235        296973  https://www.smashwords.com/books/download/2969...   \n",
       "12306        415743  https://www.smashwords.com/books/download/4157...   \n",
       "\n",
       "      in_bcopen                 location    category       fname  word_count  \\\n",
       "24495      True  ./Historical/432689.txt  Historical  432689.txt     81641.0   \n",
       "85588      True      ./Horror/344755.txt      Horror  344755.txt     23288.0   \n",
       "14685      True     ./Mystery/346868.txt     Mystery  346868.txt     49801.0   \n",
       "27235      True   ./Adventure/296973.txt   Adventure  296973.txt     89647.0   \n",
       "12306      True     ./Romance/415743.txt     Romance  415743.txt     21185.0   \n",
       "\n",
       "      disk_usage in_bc_books  \n",
       "24495       464K        True  \n",
       "85588       124K        True  \n",
       "14685       280K        True  \n",
       "27235       484K        True  \n",
       "12306       116K        True  "
      ]
     },
     "execution_count": 54,
     "metadata": {},
     "output_type": "execute_result"
    }
   ],
   "source": [
    "# Check if everything looks okay\n",
    "sw_books[sw_books.in_bc_books==True].sample(5)"
   ]
  },
  {
   "cell_type": "markdown",
   "metadata": {},
   "source": [
    "# Stolen Books?"
   ]
  },
  {
   "cell_type": "code",
   "execution_count": 55,
   "metadata": {},
   "outputs": [
    {
     "name": "stdout",
     "output_type": "stream",
     "text": [
      "406\n"
     ]
    }
   ],
   "source": [
    "# How many books are in BookCorpus that now cost money?\n",
    "# (Lower bound since metadata is missing for lots of BookCorpus books)\n",
    "stolen_books = sw_books[(sw_books.in_bc_books==True)&(sw_books.Price.str.contains('USD'))&(sw_books.Price!='$0.00 USD')]\n",
    "print(len(stolen_books))"
   ]
  },
  {
   "cell_type": "code",
   "execution_count": 56,
   "metadata": {},
   "outputs": [
    {
     "data": {
      "text/html": [
       "<div>\n",
       "<style scoped>\n",
       "    .dataframe tbody tr th:only-of-type {\n",
       "        vertical-align: middle;\n",
       "    }\n",
       "\n",
       "    .dataframe tbody tr th {\n",
       "        vertical-align: top;\n",
       "    }\n",
       "\n",
       "    .dataframe thead th {\n",
       "        text-align: right;\n",
       "    }\n",
       "</style>\n",
       "<table border=\"1\" class=\"dataframe\">\n",
       "  <thead>\n",
       "    <tr style=\"text-align: right;\">\n",
       "      <th></th>\n",
       "      <th>Link</th>\n",
       "      <th>Title</th>\n",
       "      <th>Author</th>\n",
       "      <th>Price</th>\n",
       "      <th>Words</th>\n",
       "      <th>Language</th>\n",
       "      <th>Published</th>\n",
       "      <th>Categories</th>\n",
       "      <th>in_smashwords21</th>\n",
       "      <th>smashwords_id</th>\n",
       "      <th>EpubLink</th>\n",
       "      <th>in_bcopen</th>\n",
       "      <th>location</th>\n",
       "      <th>category</th>\n",
       "      <th>fname</th>\n",
       "      <th>word_count</th>\n",
       "      <th>disk_usage</th>\n",
       "      <th>in_bc_books</th>\n",
       "    </tr>\n",
       "  </thead>\n",
       "  <tbody>\n",
       "    <tr>\n",
       "      <th>346836</th>\n",
       "      <td>https://www.smashwords.com/books/view/471530</td>\n",
       "      <td>Wicked Bartender PG-13 Version</td>\n",
       "      <td>KuroKoneko Kamen</td>\n",
       "      <td>$2.99 USD</td>\n",
       "      <td>138,600</td>\n",
       "      <td>English</td>\n",
       "      <td>August 29, 2014</td>\n",
       "      <td>Fiction » Romance » Paranormal , Fiction » Rom...</td>\n",
       "      <td>True</td>\n",
       "      <td>471530</td>\n",
       "      <td></td>\n",
       "      <td></td>\n",
       "      <td>./Romance/471530.txt</td>\n",
       "      <td>Romance</td>\n",
       "      <td>471530.txt</td>\n",
       "      <td>138559.0</td>\n",
       "      <td>784K</td>\n",
       "      <td>True</td>\n",
       "    </tr>\n",
       "    <tr>\n",
       "      <th>229952</th>\n",
       "      <td>https://www.smashwords.com/books/view/41120</td>\n",
       "      <td>Prometheus Fit To Be Tied</td>\n",
       "      <td>Paul Hawkins</td>\n",
       "      <td>$2.99 USD</td>\n",
       "      <td>89,790</td>\n",
       "      <td>English</td>\n",
       "      <td>February 7, 2011</td>\n",
       "      <td>Fiction » Literature » Literary , Fiction » Hu...</td>\n",
       "      <td>True</td>\n",
       "      <td>41120</td>\n",
       "      <td></td>\n",
       "      <td></td>\n",
       "      <td>./Humor/41120.txt</td>\n",
       "      <td>Humor</td>\n",
       "      <td>41120.txt</td>\n",
       "      <td>89834.0</td>\n",
       "      <td>476K</td>\n",
       "      <td>True</td>\n",
       "    </tr>\n",
       "    <tr>\n",
       "      <th>350722</th>\n",
       "      <td>https://www.smashwords.com/books/view/484482</td>\n",
       "      <td>Shrapnel's Kiss</td>\n",
       "      <td>Amy Rachiele</td>\n",
       "      <td>$2.99 USD</td>\n",
       "      <td>33,510</td>\n",
       "      <td>English</td>\n",
       "      <td>November 4, 2014</td>\n",
       "      <td>Fiction » Romance » Action/adventure , Fiction...</td>\n",
       "      <td>True</td>\n",
       "      <td>484482</td>\n",
       "      <td></td>\n",
       "      <td></td>\n",
       "      <td>./Romance/484482.txt</td>\n",
       "      <td>Romance</td>\n",
       "      <td>484482.txt</td>\n",
       "      <td>33517.0</td>\n",
       "      <td>180K</td>\n",
       "      <td>True</td>\n",
       "    </tr>\n",
       "    <tr>\n",
       "      <th>229953</th>\n",
       "      <td>https://www.smashwords.com/books/view/41120</td>\n",
       "      <td>Prometheus Fit To Be Tied</td>\n",
       "      <td>Paul Hawkins</td>\n",
       "      <td>$2.99 USD</td>\n",
       "      <td>89,790</td>\n",
       "      <td>English</td>\n",
       "      <td>February 7, 2011</td>\n",
       "      <td>Fiction » Literature » Literary , Fiction » Hu...</td>\n",
       "      <td>True</td>\n",
       "      <td>41120</td>\n",
       "      <td></td>\n",
       "      <td></td>\n",
       "      <td>./Literature/41120.txt</td>\n",
       "      <td>Literature</td>\n",
       "      <td>41120.txt</td>\n",
       "      <td>89834.0</td>\n",
       "      <td>476K</td>\n",
       "      <td>True</td>\n",
       "    </tr>\n",
       "    <tr>\n",
       "      <th>282728</th>\n",
       "      <td>https://www.smashwords.com/books/view/505347</td>\n",
       "      <td>The Rainbow Maker Project</td>\n",
       "      <td>Katherine Gae T. Yamar</td>\n",
       "      <td>$0.99 USD</td>\n",
       "      <td>31,660</td>\n",
       "      <td>English</td>\n",
       "      <td>December 28, 2014</td>\n",
       "      <td>Fiction » Fantasy » General , Fiction » Advent...</td>\n",
       "      <td>True</td>\n",
       "      <td>505347</td>\n",
       "      <td></td>\n",
       "      <td></td>\n",
       "      <td>./Fantasy/505347.txt</td>\n",
       "      <td>Fantasy</td>\n",
       "      <td>505347.txt</td>\n",
       "      <td>31669.0</td>\n",
       "      <td>184K</td>\n",
       "      <td>True</td>\n",
       "    </tr>\n",
       "  </tbody>\n",
       "</table>\n",
       "</div>"
      ],
      "text/plain": [
       "                                                Link  \\\n",
       "346836  https://www.smashwords.com/books/view/471530   \n",
       "229952   https://www.smashwords.com/books/view/41120   \n",
       "350722  https://www.smashwords.com/books/view/484482   \n",
       "229953   https://www.smashwords.com/books/view/41120   \n",
       "282728  https://www.smashwords.com/books/view/505347   \n",
       "\n",
       "                                 Title                  Author      Price  \\\n",
       "346836  Wicked Bartender PG-13 Version        KuroKoneko Kamen  $2.99 USD   \n",
       "229952       Prometheus Fit To Be Tied            Paul Hawkins  $2.99 USD   \n",
       "350722                 Shrapnel's Kiss            Amy Rachiele  $2.99 USD   \n",
       "229953       Prometheus Fit To Be Tied            Paul Hawkins  $2.99 USD   \n",
       "282728       The Rainbow Maker Project  Katherine Gae T. Yamar  $0.99 USD   \n",
       "\n",
       "          Words Language           Published  \\\n",
       "346836  138,600  English    August 29, 2014    \n",
       "229952   89,790  English   February 7, 2011    \n",
       "350722   33,510  English   November 4, 2014    \n",
       "229953   89,790  English   February 7, 2011    \n",
       "282728   31,660  English  December 28, 2014    \n",
       "\n",
       "                                               Categories in_smashwords21  \\\n",
       "346836  Fiction » Romance » Paranormal , Fiction » Rom...            True   \n",
       "229952  Fiction » Literature » Literary , Fiction » Hu...            True   \n",
       "350722  Fiction » Romance » Action/adventure , Fiction...            True   \n",
       "229953  Fiction » Literature » Literary , Fiction » Hu...            True   \n",
       "282728  Fiction » Fantasy » General , Fiction » Advent...            True   \n",
       "\n",
       "       smashwords_id EpubLink in_bcopen                location    category  \\\n",
       "346836        471530                       ./Romance/471530.txt     Romance   \n",
       "229952         41120                          ./Humor/41120.txt       Humor   \n",
       "350722        484482                       ./Romance/484482.txt     Romance   \n",
       "229953         41120                     ./Literature/41120.txt  Literature   \n",
       "282728        505347                       ./Fantasy/505347.txt     Fantasy   \n",
       "\n",
       "             fname  word_count disk_usage in_bc_books  \n",
       "346836  471530.txt    138559.0       784K        True  \n",
       "229952   41120.txt     89834.0       476K        True  \n",
       "350722  484482.txt     33517.0       180K        True  \n",
       "229953   41120.txt     89834.0       476K        True  \n",
       "282728  505347.txt     31669.0       184K        True  "
      ]
     },
     "execution_count": 56,
     "metadata": {},
     "output_type": "execute_result"
    }
   ],
   "source": [
    "# What are some examples of stolen books?\n",
    "stolen_books.sample(5)"
   ]
  },
  {
   "cell_type": "code",
   "execution_count": 57,
   "metadata": {},
   "outputs": [
    {
     "name": "stdout",
     "output_type": "stream",
     "text": [
      "1182.21\n"
     ]
    },
    {
     "name": "stderr",
     "output_type": "stream",
     "text": [
      "/usr/local/lib/python3.7/site-packages/pandas/core/indexing.py:845: SettingWithCopyWarning: \n",
      "A value is trying to be set on a copy of a slice from a DataFrame.\n",
      "Try using .loc[row_indexer,col_indexer] = value instead\n",
      "\n",
      "See the caveats in the documentation: https://pandas.pydata.org/pandas-docs/stable/user_guide/indexing.html#returning-a-view-versus-a-copy\n",
      "  self.obj[key] = _infer_fill_value(value)\n",
      "/usr/local/lib/python3.7/site-packages/pandas/core/indexing.py:966: SettingWithCopyWarning: \n",
      "A value is trying to be set on a copy of a slice from a DataFrame.\n",
      "Try using .loc[row_indexer,col_indexer] = value instead\n",
      "\n",
      "See the caveats in the documentation: https://pandas.pydata.org/pandas-docs/stable/user_guide/indexing.html#returning-a-view-versus-a-copy\n",
      "  self.obj[item] = s\n"
     ]
    }
   ],
   "source": [
    "# How much would these stolen books cost?\n",
    "stolen_books.loc[:,'dollar_cost'] = stolen_books.Price.str.split(expand=True)[0]\n",
    "stolen_books.loc[:,'dollar_cost'] = stolen_books.dollar_cost.str.replace('$','')\n",
    "stolen_books.loc[:,'dollar_cost'] = stolen_books.dollar_cost.str.replace(',','')\n",
    "stolen_books.loc[:,'dollar_cost'] = pd.to_numeric(stolen_books.dollar_cost)\n",
    "\n",
    "print(stolen_books.dollar_cost.sum())"
   ]
  },
  {
   "cell_type": "markdown",
   "metadata": {},
   "source": [
    "## General Composition"
   ]
  },
  {
   "cell_type": "code",
   "execution_count": 58,
   "metadata": {},
   "outputs": [
    {
     "name": "stdout",
     "output_type": "stream",
     "text": [
      "11040\n"
     ]
    }
   ],
   "source": [
    "# How many instances (books) are there in total?\n",
    "print(len(bc_books))"
   ]
  },
  {
   "cell_type": "code",
   "execution_count": 59,
   "metadata": {},
   "outputs": [],
   "source": [
    "# To align with the 11,038 reported by Zhu and Kiros et al., remove \"adventure-all.txt\" and \"romance-all.txt\"\n",
    "extra_books = bc_books[(bc_books.fname.str.contains('adventure-all.txt')|bc_books.fname.str.contains('romance-all.txt'))]\n",
    "bc_books = bc_books[~(bc_books.fname.str.contains('adventure-all.txt')|bc_books.fname.str.contains('romance-all.txt'))]"
   ]
  },
  {
   "cell_type": "code",
   "execution_count": 60,
   "metadata": {},
   "outputs": [
    {
     "data": {
      "text/plain": [
       "11038"
      ]
     },
     "execution_count": 60,
     "metadata": {},
     "output_type": "execute_result"
    }
   ],
   "source": [
    "len(bc_books)"
   ]
  },
  {
   "cell_type": "code",
   "execution_count": 61,
   "metadata": {},
   "outputs": [
    {
     "data": {
      "text/plain": [
       "811601031"
      ]
     },
     "execution_count": 61,
     "metadata": {},
     "output_type": "execute_result"
    }
   ],
   "source": [
    "# How many words in the files?\n",
    "bc_books.word_count.sum()"
   ]
  },
  {
   "cell_type": "code",
   "execution_count": 62,
   "metadata": {},
   "outputs": [
    {
     "data": {
      "text/plain": [
       "1042409939"
      ]
     },
     "execution_count": 62,
     "metadata": {},
     "output_type": "execute_result"
    }
   ],
   "source": [
    "# Zhu and Kiros et al. report 984,846,357, so this does not align\n",
    "# We hypothesize that this is mainly due to empty text files\n",
    "# e.g. 'All_I_Want_for_Christmas_Is_a_Vampire.txt' is empty in the download from https://yknzhu.wixsite.com/mbweb\n",
    "\n",
    "# Also, if we add the words from the \"extra books,\" the word count exceeds the original reported\n",
    "extra_books.word_count.sum() + bc_books.word_count.sum()"
   ]
  },
  {
   "cell_type": "markdown",
   "metadata": {},
   "source": [
    "## Missing or Truncated Files"
   ]
  },
  {
   "cell_type": "code",
   "execution_count": 63,
   "metadata": {},
   "outputs": [
    {
     "data": {
      "text/plain": [
       "98"
      ]
     },
     "execution_count": 63,
     "metadata": {},
     "output_type": "execute_result"
    }
   ],
   "source": [
    "# How many book files have no disk usage?\n",
    "len(bc_books[bc_books.disk_usage=='0B'])"
   ]
  },
  {
   "cell_type": "code",
   "execution_count": 64,
   "metadata": {},
   "outputs": [
    {
     "data": {
      "text/html": [
       "<div>\n",
       "<style scoped>\n",
       "    .dataframe tbody tr th:only-of-type {\n",
       "        vertical-align: middle;\n",
       "    }\n",
       "\n",
       "    .dataframe tbody tr th {\n",
       "        vertical-align: top;\n",
       "    }\n",
       "\n",
       "    .dataframe thead th {\n",
       "        text-align: right;\n",
       "    }\n",
       "</style>\n",
       "<table border=\"1\" class=\"dataframe\">\n",
       "  <thead>\n",
       "    <tr style=\"text-align: right;\">\n",
       "      <th></th>\n",
       "      <th>location</th>\n",
       "      <th>category</th>\n",
       "      <th>fname</th>\n",
       "      <th>word_count</th>\n",
       "      <th>disk_usage</th>\n",
       "      <th>smashwords_id</th>\n",
       "      <th>in_bc_books</th>\n",
       "    </tr>\n",
       "  </thead>\n",
       "  <tbody>\n",
       "    <tr>\n",
       "      <th>29</th>\n",
       "      <td>./Horror/Paranoid-A-Chant.txt</td>\n",
       "      <td>Horror</td>\n",
       "      <td>Paranoid-A-Chant.txt</td>\n",
       "      <td>0</td>\n",
       "      <td>0B</td>\n",
       "      <td>Paranoid-A-Chant</td>\n",
       "      <td>True</td>\n",
       "    </tr>\n",
       "    <tr>\n",
       "      <th>7</th>\n",
       "      <td>./Fantasy/One_Eyed_Jacks.txt</td>\n",
       "      <td>Fantasy</td>\n",
       "      <td>One_Eyed_Jacks.txt</td>\n",
       "      <td>0</td>\n",
       "      <td>0B</td>\n",
       "      <td>One_Eyed_Jacks</td>\n",
       "      <td>True</td>\n",
       "    </tr>\n",
       "    <tr>\n",
       "      <th>80</th>\n",
       "      <td>./Science_fiction/Shock.txt</td>\n",
       "      <td>Science_fiction</td>\n",
       "      <td>Shock.txt</td>\n",
       "      <td>0</td>\n",
       "      <td>0B</td>\n",
       "      <td>Shock</td>\n",
       "      <td>True</td>\n",
       "    </tr>\n",
       "    <tr>\n",
       "      <th>50</th>\n",
       "      <td>./Science_fiction/Asimov14.txt</td>\n",
       "      <td>Science_fiction</td>\n",
       "      <td>Asimov14.txt</td>\n",
       "      <td>0</td>\n",
       "      <td>0B</td>\n",
       "      <td>Asimov14</td>\n",
       "      <td>True</td>\n",
       "    </tr>\n",
       "    <tr>\n",
       "      <th>63</th>\n",
       "      <td>./Science_fiction/Asimov37.txt</td>\n",
       "      <td>Science_fiction</td>\n",
       "      <td>Asimov37.txt</td>\n",
       "      <td>0</td>\n",
       "      <td>0B</td>\n",
       "      <td>Asimov37</td>\n",
       "      <td>True</td>\n",
       "    </tr>\n",
       "  </tbody>\n",
       "</table>\n",
       "</div>"
      ],
      "text/plain": [
       "                          location         category                 fname  \\\n",
       "29   ./Horror/Paranoid-A-Chant.txt           Horror  Paranoid-A-Chant.txt   \n",
       "7     ./Fantasy/One_Eyed_Jacks.txt          Fantasy    One_Eyed_Jacks.txt   \n",
       "80     ./Science_fiction/Shock.txt  Science_fiction             Shock.txt   \n",
       "50  ./Science_fiction/Asimov14.txt  Science_fiction          Asimov14.txt   \n",
       "63  ./Science_fiction/Asimov37.txt  Science_fiction          Asimov37.txt   \n",
       "\n",
       "    word_count disk_usage     smashwords_id  in_bc_books  \n",
       "29           0         0B  Paranoid-A-Chant         True  \n",
       "7            0         0B    One_Eyed_Jacks         True  \n",
       "80           0         0B             Shock         True  \n",
       "50           0         0B          Asimov14         True  \n",
       "63           0         0B          Asimov37         True  "
      ]
     },
     "execution_count": 64,
     "metadata": {},
     "output_type": "execute_result"
    }
   ],
   "source": [
    "# What are some of the empty book files?\n",
    "bc_books[bc_books.disk_usage=='0B'].sample(5)"
   ]
  },
  {
   "cell_type": "code",
   "execution_count": 65,
   "metadata": {},
   "outputs": [
    {
     "data": {
      "text/plain": [
       "655"
      ]
     },
     "execution_count": 65,
     "metadata": {},
     "output_type": "execute_result"
    }
   ],
   "source": [
    "# How many book files have fewer than 20,000 words (the cutoff specified in the paper)?\n",
    "len(bc_books[bc_books.word_count<20000])"
   ]
  },
  {
   "cell_type": "code",
   "execution_count": 66,
   "metadata": {},
   "outputs": [
    {
     "data": {
      "text/plain": [
       "291"
      ]
     },
     "execution_count": 66,
     "metadata": {},
     "output_type": "execute_result"
    }
   ],
   "source": [
    "# How many book files have fewer than 10,000 words?\n",
    "len(bc_books[bc_books.word_count<10000])"
   ]
  },
  {
   "cell_type": "markdown",
   "metadata": {},
   "source": [
    "## Books with Duplicate Copies"
   ]
  },
  {
   "cell_type": "code",
   "execution_count": 67,
   "metadata": {},
   "outputs": [
    {
     "name": "stdout",
     "output_type": "stream",
     "text": [
      "7185\n"
     ]
    }
   ],
   "source": [
    "# How many unique file names are there?\n",
    "file_name_counts = pd.DataFrame(bc_books.fname.value_counts()).reset_index()\n",
    "file_name_counts.columns = ['fname','n']\n",
    "print(len(file_name_counts))"
   ]
  },
  {
   "cell_type": "markdown",
   "metadata": {},
   "source": [
    "*We confirmed each unique filename corresponded to one unique book, even in cases where word counts and disk usage differed.*\n",
    "\n",
    "*See the datasheet for details.*"
   ]
  },
  {
   "cell_type": "code",
   "execution_count": 68,
   "metadata": {},
   "outputs": [
    {
     "name": "stdout",
     "output_type": "stream",
     "text": [
      "2930\n"
     ]
    }
   ],
   "source": [
    "# How many file names occur multiple times?\n",
    "print(len(file_name_counts[file_name_counts.n>1]))"
   ]
  },
  {
   "cell_type": "code",
   "execution_count": 69,
   "metadata": {},
   "outputs": [
    {
     "data": {
      "text/plain": [
       "3853"
      ]
     },
     "execution_count": 69,
     "metadata": {},
     "output_type": "execute_result"
    }
   ],
   "source": [
    "# How many books do these file names represent?\n",
    "# That is, how many books are duplicates?\n",
    "len(bc_books) - len(file_name_counts)"
   ]
  },
  {
   "cell_type": "code",
   "execution_count": 70,
   "metadata": {},
   "outputs": [
    {
     "name": "stdout",
     "output_type": "stream",
     "text": [
      "1    4255\n",
      "2    2101\n",
      "3     741\n",
      "4      82\n",
      "5       6\n",
      "Name: n, dtype: int64\n"
     ]
    }
   ],
   "source": [
    "# How many books occur once, twice, thrice, etc.?\n",
    "print(file_name_counts.n.value_counts())"
   ]
  },
  {
   "cell_type": "code",
   "execution_count": 71,
   "metadata": {},
   "outputs": [
    {
     "name": "stdout",
     "output_type": "stream",
     "text": [
      "File name: 2274\n",
      "2 Occurrences:\n"
     ]
    },
    {
     "data": {
      "text/html": [
       "<table border=\"1\" class=\"dataframe\">\n",
       "  <thead>\n",
       "    <tr style=\"text-align: right;\">\n",
       "      <th></th>\n",
       "      <th>location</th>\n",
       "      <th>category</th>\n",
       "      <th>fname</th>\n",
       "      <th>word_count</th>\n",
       "      <th>disk_usage</th>\n",
       "      <th>smashwords_id</th>\n",
       "      <th>in_bc_books</th>\n",
       "    </tr>\n",
       "  </thead>\n",
       "  <tbody>\n",
       "    <tr>\n",
       "      <th>10225</th>\n",
       "      <td>./Historical/180662.txt</td>\n",
       "      <td>Historical</td>\n",
       "      <td>180662.txt</td>\n",
       "      <td>132195</td>\n",
       "      <td>760K</td>\n",
       "      <td>180662</td>\n",
       "      <td>True</td>\n",
       "    </tr>\n",
       "    <tr>\n",
       "      <th>10226</th>\n",
       "      <td>./Literature/180662.txt</td>\n",
       "      <td>Literature</td>\n",
       "      <td>180662.txt</td>\n",
       "      <td>132195</td>\n",
       "      <td>760K</td>\n",
       "      <td>180662</td>\n",
       "      <td>True</td>\n",
       "    </tr>\n",
       "  </tbody>\n",
       "</table>"
      ],
      "text/plain": [
       "<IPython.core.display.HTML object>"
      ]
     },
     "metadata": {},
     "output_type": "display_data"
    },
    {
     "name": "stdout",
     "output_type": "stream",
     "text": [
      "File name: 2302\n",
      "2 Occurrences:\n"
     ]
    },
    {
     "data": {
      "text/html": [
       "<table border=\"1\" class=\"dataframe\">\n",
       "  <thead>\n",
       "    <tr style=\"text-align: right;\">\n",
       "      <th></th>\n",
       "      <th>location</th>\n",
       "      <th>category</th>\n",
       "      <th>fname</th>\n",
       "      <th>word_count</th>\n",
       "      <th>disk_usage</th>\n",
       "      <th>smashwords_id</th>\n",
       "      <th>in_bc_books</th>\n",
       "    </tr>\n",
       "  </thead>\n",
       "  <tbody>\n",
       "    <tr>\n",
       "      <th>1767</th>\n",
       "      <td>./Adventure/321752.txt</td>\n",
       "      <td>Adventure</td>\n",
       "      <td>321752.txt</td>\n",
       "      <td>29614</td>\n",
       "      <td>172K</td>\n",
       "      <td>321752</td>\n",
       "      <td>True</td>\n",
       "    </tr>\n",
       "    <tr>\n",
       "      <th>1768</th>\n",
       "      <td>./Science_fiction/321752.txt</td>\n",
       "      <td>Science_fiction</td>\n",
       "      <td>321752.txt</td>\n",
       "      <td>29614</td>\n",
       "      <td>172K</td>\n",
       "      <td>321752</td>\n",
       "      <td>True</td>\n",
       "    </tr>\n",
       "  </tbody>\n",
       "</table>"
      ],
      "text/plain": [
       "<IPython.core.display.HTML object>"
      ]
     },
     "metadata": {},
     "output_type": "display_data"
    },
    {
     "name": "stdout",
     "output_type": "stream",
     "text": [
      "File name: 2859\n",
      "2 Occurrences:\n"
     ]
    },
    {
     "data": {
      "text/html": [
       "<table border=\"1\" class=\"dataframe\">\n",
       "  <thead>\n",
       "    <tr style=\"text-align: right;\">\n",
       "      <th></th>\n",
       "      <th>location</th>\n",
       "      <th>category</th>\n",
       "      <th>fname</th>\n",
       "      <th>word_count</th>\n",
       "      <th>disk_usage</th>\n",
       "      <th>smashwords_id</th>\n",
       "      <th>in_bc_books</th>\n",
       "    </tr>\n",
       "  </thead>\n",
       "  <tbody>\n",
       "    <tr>\n",
       "      <th>4260</th>\n",
       "      <td>./Fantasy/506088.txt</td>\n",
       "      <td>Fantasy</td>\n",
       "      <td>506088.txt</td>\n",
       "      <td>58601</td>\n",
       "      <td>324K</td>\n",
       "      <td>506088</td>\n",
       "      <td>True</td>\n",
       "    </tr>\n",
       "    <tr>\n",
       "      <th>4261</th>\n",
       "      <td>./Teen/506088.txt</td>\n",
       "      <td>Teen</td>\n",
       "      <td>506088.txt</td>\n",
       "      <td>58601</td>\n",
       "      <td>324K</td>\n",
       "      <td>506088</td>\n",
       "      <td>True</td>\n",
       "    </tr>\n",
       "  </tbody>\n",
       "</table>"
      ],
      "text/plain": [
       "<IPython.core.display.HTML object>"
      ]
     },
     "metadata": {},
     "output_type": "display_data"
    },
    {
     "name": "stdout",
     "output_type": "stream",
     "text": [
      "File name: 1717\n",
      "2 Occurrences:\n"
     ]
    },
    {
     "data": {
      "text/html": [
       "<table border=\"1\" class=\"dataframe\">\n",
       "  <thead>\n",
       "    <tr style=\"text-align: right;\">\n",
       "      <th></th>\n",
       "      <th>location</th>\n",
       "      <th>category</th>\n",
       "      <th>fname</th>\n",
       "      <th>word_count</th>\n",
       "      <th>disk_usage</th>\n",
       "      <th>smashwords_id</th>\n",
       "      <th>in_bc_books</th>\n",
       "    </tr>\n",
       "  </thead>\n",
       "  <tbody>\n",
       "    <tr>\n",
       "      <th>2767</th>\n",
       "      <td>./Fantasy/368712.txt</td>\n",
       "      <td>Fantasy</td>\n",
       "      <td>368712.txt</td>\n",
       "      <td>42090</td>\n",
       "      <td>232K</td>\n",
       "      <td>368712</td>\n",
       "      <td>True</td>\n",
       "    </tr>\n",
       "    <tr>\n",
       "      <th>2768</th>\n",
       "      <td>./Science_fiction/368712.txt</td>\n",
       "      <td>Science_fiction</td>\n",
       "      <td>368712.txt</td>\n",
       "      <td>42090</td>\n",
       "      <td>232K</td>\n",
       "      <td>368712</td>\n",
       "      <td>True</td>\n",
       "    </tr>\n",
       "  </tbody>\n",
       "</table>"
      ],
      "text/plain": [
       "<IPython.core.display.HTML object>"
      ]
     },
     "metadata": {},
     "output_type": "display_data"
    },
    {
     "name": "stdout",
     "output_type": "stream",
     "text": [
      "File name: 1670\n",
      "2 Occurrences:\n"
     ]
    },
    {
     "data": {
      "text/html": [
       "<table border=\"1\" class=\"dataframe\">\n",
       "  <thead>\n",
       "    <tr style=\"text-align: right;\">\n",
       "      <th></th>\n",
       "      <th>location</th>\n",
       "      <th>category</th>\n",
       "      <th>fname</th>\n",
       "      <th>word_count</th>\n",
       "      <th>disk_usage</th>\n",
       "      <th>smashwords_id</th>\n",
       "      <th>in_bc_books</th>\n",
       "    </tr>\n",
       "  </thead>\n",
       "  <tbody>\n",
       "    <tr>\n",
       "      <th>3322</th>\n",
       "      <td>./Science_fiction/364494.txt</td>\n",
       "      <td>Science_fiction</td>\n",
       "      <td>364494.txt</td>\n",
       "      <td>48863</td>\n",
       "      <td>268K</td>\n",
       "      <td>364494</td>\n",
       "      <td>True</td>\n",
       "    </tr>\n",
       "    <tr>\n",
       "      <th>3323</th>\n",
       "      <td>./Teen/364494.txt</td>\n",
       "      <td>Teen</td>\n",
       "      <td>364494.txt</td>\n",
       "      <td>48863</td>\n",
       "      <td>268K</td>\n",
       "      <td>364494</td>\n",
       "      <td>True</td>\n",
       "    </tr>\n",
       "  </tbody>\n",
       "</table>"
      ],
      "text/plain": [
       "<IPython.core.display.HTML object>"
      ]
     },
     "metadata": {},
     "output_type": "display_data"
    }
   ],
   "source": [
    "# What are some of the duplicate books?\n",
    "\n",
    "# for now, remove filenames with unknown name scheme (e.g. 'u3041.txt', 'et4358.txt', 'b5096.txt')\n",
    "named_dups=file_name_counts[(~file_name_counts.fname.str.match(r'(u|et|b)'))]\n",
    "named_dups = named_dups[(named_dups.n>1)]\n",
    "\n",
    "# inspect 5 random filenames occuring multiple times, inspect listings\n",
    "for index, row in named_dups.sample(5).iterrows():\n",
    "    print(\"File name: {}\".format(index))\n",
    "    print(\"{} Occurrences:\".format(len(bc_books[bc_books.fname==row.fname])))\n",
    "    display(HTML(bc_books[bc_books.fname==row.fname].to_html()))"
   ]
  },
  {
   "cell_type": "markdown",
   "metadata": {},
   "source": [
    "## Sample Comparisons"
   ]
  },
  {
   "cell_type": "markdown",
   "metadata": {},
   "source": [
    "#### Genre Distribution"
   ]
  },
  {
   "cell_type": "code",
   "execution_count": 72,
   "metadata": {},
   "outputs": [
    {
     "data": {
      "text/html": [
       "<table border=\"1\" class=\"dataframe\">\n",
       "  <thead>\n",
       "    <tr style=\"text-align: right;\">\n",
       "      <th></th>\n",
       "      <th>BookCorpus</th>\n",
       "      <th>BookCorpusOpen</th>\n",
       "      <th>Smashwords21</th>\n",
       "    </tr>\n",
       "  </thead>\n",
       "  <tbody>\n",
       "    <tr>\n",
       "      <th>Romance</th>\n",
       "      <td>26.1% (2880)</td>\n",
       "      <td>18.0% (3314)</td>\n",
       "      <td>16.0% (66083)</td>\n",
       "    </tr>\n",
       "    <tr>\n",
       "      <th>Fantasy</th>\n",
       "      <td>13.6% (1502)</td>\n",
       "      <td>17.2% (3171)</td>\n",
       "      <td>10.6% (44032)</td>\n",
       "    </tr>\n",
       "    <tr>\n",
       "      <th>Science_fiction</th>\n",
       "      <td>7.5% (823)</td>\n",
       "      <td>13.3% (2453)</td>\n",
       "      <td>7.8% (32063)</td>\n",
       "    </tr>\n",
       "    <tr>\n",
       "      <th>New_Adult</th>\n",
       "      <td>6.9% (766)</td>\n",
       "      <td>0.9% (175)</td>\n",
       "      <td>0.7% (2902)</td>\n",
       "    </tr>\n",
       "    <tr>\n",
       "      <th>Young_Adult</th>\n",
       "      <td>6.8% (748)</td>\n",
       "      <td>9.5% (1748)</td>\n",
       "      <td>4.6% (19015)</td>\n",
       "    </tr>\n",
       "    <tr>\n",
       "      <th>Thriller</th>\n",
       "      <td>5.9% (646)</td>\n",
       "      <td>7.4% (1368)</td>\n",
       "      <td>5.7% (23587)</td>\n",
       "    </tr>\n",
       "    <tr>\n",
       "      <th>Mystery</th>\n",
       "      <td>5.6% (621)</td>\n",
       "      <td>5.3% (987)</td>\n",
       "      <td>4.7% (19351)</td>\n",
       "    </tr>\n",
       "    <tr>\n",
       "      <th>Vampires</th>\n",
       "      <td>5.4% (600)</td>\n",
       "      <td>0.0% (0)</td>\n",
       "      <td>0.0% (0)</td>\n",
       "    </tr>\n",
       "    <tr>\n",
       "      <th>Horror</th>\n",
       "      <td>4.1% (448)</td>\n",
       "      <td>3.9% (727)</td>\n",
       "      <td>3.9% (15944)</td>\n",
       "    </tr>\n",
       "    <tr>\n",
       "      <th>Teen</th>\n",
       "      <td>3.9% (430)</td>\n",
       "      <td>9.5% (1752)</td>\n",
       "      <td>4.6% (19154)</td>\n",
       "    </tr>\n",
       "    <tr>\n",
       "      <th>Adventure</th>\n",
       "      <td>3.5% (390)</td>\n",
       "      <td>11.5% (2117)</td>\n",
       "      <td>7.1% (29474)</td>\n",
       "    </tr>\n",
       "    <tr>\n",
       "      <th>Other</th>\n",
       "      <td>3.3% (360)</td>\n",
       "      <td>0.1% (18)</td>\n",
       "      <td>0.3% (1075)</td>\n",
       "    </tr>\n",
       "    <tr>\n",
       "      <th>Literature</th>\n",
       "      <td>3.0% (330)</td>\n",
       "      <td>3.0% (560)</td>\n",
       "      <td>2.6% (10592)</td>\n",
       "    </tr>\n",
       "    <tr>\n",
       "      <th>Humor</th>\n",
       "      <td>2.4% (265)</td>\n",
       "      <td>4.1% (749)</td>\n",
       "      <td>3.0% (12333)</td>\n",
       "    </tr>\n",
       "    <tr>\n",
       "      <th>Historical</th>\n",
       "      <td>1.6% (178)</td>\n",
       "      <td>4.7% (864)</td>\n",
       "      <td>4.5% (18815)</td>\n",
       "    </tr>\n",
       "    <tr>\n",
       "      <th>Themes</th>\n",
       "      <td>0.5% (51)</td>\n",
       "      <td>1.3% (243)</td>\n",
       "      <td>1.5% (6179)</td>\n",
       "    </tr>\n",
       "  </tbody>\n",
       "</table>"
      ],
      "text/plain": [
       "<IPython.core.display.HTML object>"
      ]
     },
     "metadata": {},
     "output_type": "display_data"
    }
   ],
   "source": [
    "# Genre distribution in original BookCorpus\n",
    "genre_df = pd.DataFrame(bc_books.category.value_counts())\n",
    "genre_df.columns = ['BookCorpusN']\n",
    "genre_df['BookCorpusP'] = (genre_df.BookCorpusN/genre_df.BookCorpusN.sum()*100).round(1).astype(str)+'%'\n",
    "genre_df['BookCorpus'] = genre_df.BookCorpusP + ' (' + genre_df.BookCorpusN.astype(str) + ')'\n",
    "\n",
    "\n",
    "# BookCorpusOpen\n",
    "genre_df['BookCorpusOpenN'] = ''\n",
    "for genre in genre_df.index.tolist():\n",
    "    g=genre.replace('_',' ')\n",
    "    genre_df.at[genre,'BookCorpusOpenN'] = len(sw_books[(sw_books.in_bcopen==True)&(sw_books.Categories.str.contains(g,case=False))])\n",
    "\n",
    "total_bcopen = len(sw_books[(sw_books.in_bcopen==True)])\n",
    "genre_df.BookCorpusOpenN = genre_df.BookCorpusOpenN.astype(int)\n",
    "genre_df['BookCorpusOpenP'] = (genre_df.BookCorpusOpenN/total_bcopen*100).round(1).astype(str)+'%'\n",
    "genre_df['BookCorpusOpen'] = genre_df.BookCorpusOpenP + ' (' + genre_df.BookCorpusOpenN.astype(str) + ')'\n",
    "\n",
    "\n",
    "\n",
    "# Smashwords21\n",
    "genre_df['Smashwords21'] = ''\n",
    "for genre in genre_df.index.tolist():\n",
    "    g=genre.replace('_',' ')\n",
    "    genre_df.at[genre,'Smashwords21N'] = len(sw_books[sw_books.Categories.str.contains(g,case=False)])\n",
    "\n",
    "    \n",
    "total_smashwords = len(sw_books)\n",
    "genre_df.Smashwords21N = genre_df.Smashwords21N.astype(int)\n",
    "genre_df['Smashwords21P'] = (genre_df.Smashwords21N/total_smashwords*100).round(1).astype(str)+'%'\n",
    "genre_df['Smashwords21'] = genre_df.Smashwords21P + ' (' + genre_df.Smashwords21N.astype(str) + ')'\n",
    "\n",
    "\n",
    "\n",
    "to_print = genre_df[['BookCorpus','BookCorpusOpen','Smashwords21']]\n",
    "display(HTML(to_print.to_html()))"
   ]
  },
  {
   "cell_type": "markdown",
   "metadata": {},
   "source": [
    "#### Religious Viewpoint Distribution"
   ]
  },
  {
   "cell_type": "code",
   "execution_count": 73,
   "metadata": {},
   "outputs": [],
   "source": [
    "# based on recommendations by Dhamala and Sun et al. https://dl.acm.org/doi/abs/10.1145/3442188.3445924\n",
    "religion_list = ['Sikhism', 'Judaism', 'Islam', 'Hinduism', 'Christianity', 'Buddhism', 'Atheism']\n",
    "\n",
    "religion_df = pd.DataFrame(columns=['BookCorpus','BookCorpusOpen','Smashwords21'],index=religion_list)"
   ]
  },
  {
   "cell_type": "code",
   "execution_count": 74,
   "metadata": {},
   "outputs": [
    {
     "data": {
      "text/html": [
       "<div>\n",
       "<style scoped>\n",
       "    .dataframe tbody tr th:only-of-type {\n",
       "        vertical-align: middle;\n",
       "    }\n",
       "\n",
       "    .dataframe tbody tr th {\n",
       "        vertical-align: top;\n",
       "    }\n",
       "\n",
       "    .dataframe thead th {\n",
       "        text-align: right;\n",
       "    }\n",
       "</style>\n",
       "<table border=\"1\" class=\"dataframe\">\n",
       "  <thead>\n",
       "    <tr style=\"text-align: right;\">\n",
       "      <th></th>\n",
       "      <th>BookCorpus</th>\n",
       "      <th>BookCorpusOpen</th>\n",
       "      <th>Smashwords21</th>\n",
       "    </tr>\n",
       "  </thead>\n",
       "  <tbody>\n",
       "    <tr>\n",
       "      <th>Sikhism</th>\n",
       "      <td>0</td>\n",
       "      <td>0</td>\n",
       "      <td>15</td>\n",
       "    </tr>\n",
       "    <tr>\n",
       "      <th>Judaism</th>\n",
       "      <td>0</td>\n",
       "      <td>18</td>\n",
       "      <td>371</td>\n",
       "    </tr>\n",
       "    <tr>\n",
       "      <th>Islam</th>\n",
       "      <td>0</td>\n",
       "      <td>229</td>\n",
       "      <td>1305</td>\n",
       "    </tr>\n",
       "    <tr>\n",
       "      <th>Hinduism</th>\n",
       "      <td>0</td>\n",
       "      <td>12</td>\n",
       "      <td>261</td>\n",
       "    </tr>\n",
       "    <tr>\n",
       "      <th>Christianity</th>\n",
       "      <td>0</td>\n",
       "      <td>154</td>\n",
       "      <td>2671</td>\n",
       "    </tr>\n",
       "    <tr>\n",
       "      <th>Buddhism</th>\n",
       "      <td>0</td>\n",
       "      <td>32</td>\n",
       "      <td>512</td>\n",
       "    </tr>\n",
       "    <tr>\n",
       "      <th>Atheism</th>\n",
       "      <td>0</td>\n",
       "      <td>18</td>\n",
       "      <td>175</td>\n",
       "    </tr>\n",
       "  </tbody>\n",
       "</table>\n",
       "</div>"
      ],
      "text/plain": [
       "             BookCorpus BookCorpusOpen Smashwords21\n",
       "Sikhism               0              0           15\n",
       "Judaism               0             18          371\n",
       "Islam                 0            229         1305\n",
       "Hinduism              0             12          261\n",
       "Christianity          0            154         2671\n",
       "Buddhism              0             32          512\n",
       "Atheism               0             18          175"
      ]
     },
     "execution_count": 74,
     "metadata": {},
     "output_type": "execute_result"
    }
   ],
   "source": [
    "for religion in religion_list:\n",
    "    religion_df.at[religion,'BookCorpusOpen'] = len(sw_books[(sw_books.in_bcopen==True)&(sw_books.Categories.str.contains(religion,case=False))])\n",
    "    religion_df.at[religion,'Smashwords21'] = len(sw_books[sw_books.Categories.str.contains(religion,case=False)])\n",
    "    religion_df.at[religion,'BookCorpus'] = len(sw_books[(sw_books.in_bc_books==True)&(sw_books.Categories.str.contains(religion,case=False))])\n",
    "\n",
    "religion_df"
   ]
  },
  {
   "cell_type": "code",
   "execution_count": 75,
   "metadata": {},
   "outputs": [
    {
     "data": {
      "text/html": [
       "<div>\n",
       "<style scoped>\n",
       "    .dataframe tbody tr th:only-of-type {\n",
       "        vertical-align: middle;\n",
       "    }\n",
       "\n",
       "    .dataframe tbody tr th {\n",
       "        vertical-align: top;\n",
       "    }\n",
       "\n",
       "    .dataframe thead th {\n",
       "        text-align: right;\n",
       "    }\n",
       "</style>\n",
       "<table border=\"1\" class=\"dataframe\">\n",
       "  <thead>\n",
       "    <tr style=\"text-align: right;\">\n",
       "      <th></th>\n",
       "      <th>Link</th>\n",
       "      <th>Title</th>\n",
       "    </tr>\n",
       "  </thead>\n",
       "  <tbody>\n",
       "    <tr>\n",
       "      <th>23940</th>\n",
       "      <td>https://www.smashwords.com/books/view/648949</td>\n",
       "      <td>Has the Bible Been Changed?: The Reliability o...</td>\n",
       "    </tr>\n",
       "    <tr>\n",
       "      <th>2620</th>\n",
       "      <td>https://www.smashwords.com/books/view/115812</td>\n",
       "      <td>Could Not Answer</td>\n",
       "    </tr>\n",
       "    <tr>\n",
       "      <th>62865</th>\n",
       "      <td>https://www.smashwords.com/books/view/128298</td>\n",
       "      <td>Muslim Christian Dialogue</td>\n",
       "    </tr>\n",
       "    <tr>\n",
       "      <th>1441</th>\n",
       "      <td>https://www.smashwords.com/books/view/116105</td>\n",
       "      <td>Ethics of Islam</td>\n",
       "    </tr>\n",
       "    <tr>\n",
       "      <th>109184</th>\n",
       "      <td>https://www.smashwords.com/books/view/835050</td>\n",
       "      <td>Allah'ın Detay Sanatı</td>\n",
       "    </tr>\n",
       "  </tbody>\n",
       "</table>\n",
       "</div>"
      ],
      "text/plain": [
       "                                                Link  \\\n",
       "23940   https://www.smashwords.com/books/view/648949   \n",
       "2620    https://www.smashwords.com/books/view/115812   \n",
       "62865   https://www.smashwords.com/books/view/128298   \n",
       "1441    https://www.smashwords.com/books/view/116105   \n",
       "109184  https://www.smashwords.com/books/view/835050   \n",
       "\n",
       "                                                    Title  \n",
       "23940   Has the Bible Been Changed?: The Reliability o...  \n",
       "2620                                     Could Not Answer  \n",
       "62865                           Muslim Christian Dialogue  \n",
       "1441                                      Ethics of Islam  \n",
       "109184                              Allah'ın Detay Sanatı  "
      ]
     },
     "execution_count": 75,
     "metadata": {},
     "output_type": "execute_result"
    }
   ],
   "source": [
    "# sample of BookCorpusOpen books about Islam\n",
    "sw_books[(sw_books.in_bcopen==True)&(sw_books.Categories.str.contains('Islam',case=False))].sample(5)[['Link','Title']]"
   ]
  },
  {
   "cell_type": "code",
   "execution_count": 76,
   "metadata": {},
   "outputs": [
    {
     "data": {
      "text/html": [
       "<div>\n",
       "<style scoped>\n",
       "    .dataframe tbody tr th:only-of-type {\n",
       "        vertical-align: middle;\n",
       "    }\n",
       "\n",
       "    .dataframe tbody tr th {\n",
       "        vertical-align: top;\n",
       "    }\n",
       "\n",
       "    .dataframe thead th {\n",
       "        text-align: right;\n",
       "    }\n",
       "</style>\n",
       "<table border=\"1\" class=\"dataframe\">\n",
       "  <thead>\n",
       "    <tr style=\"text-align: right;\">\n",
       "      <th></th>\n",
       "      <th>Link</th>\n",
       "      <th>Title</th>\n",
       "    </tr>\n",
       "  </thead>\n",
       "  <tbody>\n",
       "    <tr>\n",
       "      <th>67931</th>\n",
       "      <td>https://www.smashwords.com/books/view/65356</td>\n",
       "      <td>Stories from the Forest -- Stories by a Counse...</td>\n",
       "    </tr>\n",
       "    <tr>\n",
       "      <th>87647</th>\n",
       "      <td>https://www.smashwords.com/books/view/117560</td>\n",
       "      <td>Hell: A Biblical and Evangelical Response to T...</td>\n",
       "    </tr>\n",
       "    <tr>\n",
       "      <th>18835</th>\n",
       "      <td>https://www.smashwords.com/books/view/99241</td>\n",
       "      <td>I Am Coming, Volume 4</td>\n",
       "    </tr>\n",
       "    <tr>\n",
       "      <th>102601</th>\n",
       "      <td>https://www.smashwords.com/books/view/36677</td>\n",
       "      <td>Fashioned by Culture</td>\n",
       "    </tr>\n",
       "    <tr>\n",
       "      <th>70218</th>\n",
       "      <td>https://www.smashwords.com/books/view/208575</td>\n",
       "      <td>Ich Komme, Band 5</td>\n",
       "    </tr>\n",
       "  </tbody>\n",
       "</table>\n",
       "</div>"
      ],
      "text/plain": [
       "                                                Link  \\\n",
       "67931    https://www.smashwords.com/books/view/65356   \n",
       "87647   https://www.smashwords.com/books/view/117560   \n",
       "18835    https://www.smashwords.com/books/view/99241   \n",
       "102601   https://www.smashwords.com/books/view/36677   \n",
       "70218   https://www.smashwords.com/books/view/208575   \n",
       "\n",
       "                                                    Title  \n",
       "67931   Stories from the Forest -- Stories by a Counse...  \n",
       "87647   Hell: A Biblical and Evangelical Response to T...  \n",
       "18835                               I Am Coming, Volume 4  \n",
       "102601                               Fashioned by Culture  \n",
       "70218                                   Ich Komme, Band 5  "
      ]
     },
     "execution_count": 76,
     "metadata": {},
     "output_type": "execute_result"
    }
   ],
   "source": [
    "# sample of BookCorpusOpen books about Christianity\n",
    "sw_books[(sw_books.in_bcopen==True)&(sw_books.Categories.str.contains('Christianity',case=False))].sample(5)[['Link','Title']]"
   ]
  },
  {
   "cell_type": "code",
   "execution_count": 77,
   "metadata": {},
   "outputs": [
    {
     "data": {
      "text/plain": [
       "18451"
      ]
     },
     "execution_count": 77,
     "metadata": {},
     "output_type": "execute_result"
    }
   ],
   "source": [
    "# how many books in BookCorpusOpen?\n",
    "len(sw_books[sw_books.in_bcopen==True])"
   ]
  },
  {
   "cell_type": "code",
   "execution_count": 78,
   "metadata": {},
   "outputs": [
    {
     "data": {
      "text/plain": [
       "412581"
      ]
     },
     "execution_count": 78,
     "metadata": {},
     "output_type": "execute_result"
    }
   ],
   "source": [
    "# how many unique books in Smashwords21?\n",
    "len(sw_books[sw_books.in_smashwords21==True])"
   ]
  },
  {
   "cell_type": "code",
   "execution_count": null,
   "metadata": {},
   "outputs": [],
   "source": []
  }
 ],
 "metadata": {
  "kernelspec": {
   "display_name": "Python 3",
   "language": "python",
   "name": "python3"
  },
  "language_info": {
   "codemirror_mode": {
    "name": "ipython",
    "version": 3
   },
   "file_extension": ".py",
   "mimetype": "text/x-python",
   "name": "python",
   "nbconvert_exporter": "python",
   "pygments_lexer": "ipython3",
   "version": "3.7.6"
  }
 },
 "nbformat": 4,
 "nbformat_minor": 4
}
