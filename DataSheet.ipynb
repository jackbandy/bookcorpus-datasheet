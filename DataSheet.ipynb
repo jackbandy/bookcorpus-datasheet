{
 "cells": [
  {
   "cell_type": "code",
   "execution_count": 19,
   "metadata": {},
   "outputs": [],
   "source": [
    "# import libraries and read in data\n",
    "import pandas as pd\n",
    "from IPython.display import display, HTML\n",
    "\n",
    "# BookCorpus metadata, from files downloaded directly from https://yknzhu.wixsite.com/mbweb\n",
    "bc_books = pd.read_csv('data/BookCorpus/books_in_bookcorpus.csv')\n",
    "\n",
    "# BookCorpusOpen url list, downloaded from https://huggingface.co/datasets/bookcorpusopen\n",
    "bcopen_books = pd.read_csv('data/BookCorpusOpen/2020-08-27-epub_urls.txt',header=None,names=['EpubLink'])\n",
    "\n",
    "# Smashwords21, scraped from smashwords.com in April 2021\n",
    "sw_books = pd.read_csv('data/Smashwords21/smashwords_april_2021.csv')"
   ]
  },
  {
   "cell_type": "code",
   "execution_count": 20,
   "metadata": {},
   "outputs": [],
   "source": [
    "# merge Smashwords21 with BookCorpusOpen\n",
    "bcopen_books['smashwords_id'] = bcopen_books.EpubLink.str.split('/',expand=True)[5]\n",
    "bcopen_books['in_bcopen'] = True\n",
    "\n",
    "sw_books['smashwords_id'] = sw_books.Link.str.split('/',expand=True)[5]\n",
    "sw_books = sw_books.merge(bcopen_books, how='outer',on='smashwords_id')\n",
    "sw_books.fillna(value='',inplace=True)"
   ]
  },
  {
   "cell_type": "code",
   "execution_count": 21,
   "metadata": {},
   "outputs": [],
   "source": [
    "# partially merge Smashwords21 with original BookCorpus\n",
    "bc_books['smashwords_id'] = bc_books.fname.str.replace('.txt','')\n",
    "bc_books['in_bc_books'] = True\n",
    "sw_books = sw_books.merge(bc_books, how='left',on='smashwords_id')"
   ]
  },
  {
   "cell_type": "code",
   "execution_count": 22,
   "metadata": {},
   "outputs": [
    {
     "data": {
      "text/plain": [
       "2743"
      ]
     },
     "execution_count": 22,
     "metadata": {},
     "output_type": "execute_result"
    }
   ],
   "source": [
    "# How many books from BookCorpus were found in Smashwords21 using only the smashwords_id?\n",
    "len(sw_books[sw_books.in_bc_books==True])"
   ]
  },
  {
   "cell_type": "code",
   "execution_count": 23,
   "metadata": {},
   "outputs": [
    {
     "data": {
      "text/html": [
       "<div>\n",
       "<style scoped>\n",
       "    .dataframe tbody tr th:only-of-type {\n",
       "        vertical-align: middle;\n",
       "    }\n",
       "\n",
       "    .dataframe tbody tr th {\n",
       "        vertical-align: top;\n",
       "    }\n",
       "\n",
       "    .dataframe thead th {\n",
       "        text-align: right;\n",
       "    }\n",
       "</style>\n",
       "<table border=\"1\" class=\"dataframe\">\n",
       "  <thead>\n",
       "    <tr style=\"text-align: right;\">\n",
       "      <th></th>\n",
       "      <th>Link</th>\n",
       "      <th>Title</th>\n",
       "      <th>Author</th>\n",
       "      <th>Price</th>\n",
       "      <th>Words</th>\n",
       "      <th>Language</th>\n",
       "      <th>Published</th>\n",
       "      <th>Categories</th>\n",
       "      <th>smashwords_id</th>\n",
       "      <th>EpubLink</th>\n",
       "      <th>in_bcopen</th>\n",
       "      <th>location</th>\n",
       "      <th>category</th>\n",
       "      <th>fname</th>\n",
       "      <th>word_count</th>\n",
       "      <th>disk_usage</th>\n",
       "      <th>in_bc_books</th>\n",
       "    </tr>\n",
       "  </thead>\n",
       "  <tbody>\n",
       "    <tr>\n",
       "      <th>409442</th>\n",
       "      <td>https://www.smashwords.com/books/view/367930</td>\n",
       "      <td>The Two Schillings</td>\n",
       "      <td>Anthony O'Brian</td>\n",
       "      <td>$4.99 USD</td>\n",
       "      <td>183,680</td>\n",
       "      <td>English</td>\n",
       "      <td>October 15, 2013</td>\n",
       "      <td>Fiction » Romance » Historical , Fiction » His...</td>\n",
       "      <td>367930</td>\n",
       "      <td></td>\n",
       "      <td></td>\n",
       "      <td>./Historical/367930.txt</td>\n",
       "      <td>Historical</td>\n",
       "      <td>367930.txt</td>\n",
       "      <td>183688.0</td>\n",
       "      <td>980K</td>\n",
       "      <td>True</td>\n",
       "    </tr>\n",
       "    <tr>\n",
       "      <th>2361</th>\n",
       "      <td>https://www.smashwords.com/books/view/333133</td>\n",
       "      <td>AMP Messenger</td>\n",
       "      <td>Stephen Arseneault</td>\n",
       "      <td>$0.00 USD</td>\n",
       "      <td>77,330</td>\n",
       "      <td>English</td>\n",
       "      <td>July 4, 2013</td>\n",
       "      <td>Fiction » Science fiction » Adventure , Fictio...</td>\n",
       "      <td>333133</td>\n",
       "      <td>https://www.smashwords.com/books/download/3331...</td>\n",
       "      <td>True</td>\n",
       "      <td>./Science_fiction/333133.txt</td>\n",
       "      <td>Science_fiction</td>\n",
       "      <td>333133.txt</td>\n",
       "      <td>76839.0</td>\n",
       "      <td>412K</td>\n",
       "      <td>True</td>\n",
       "    </tr>\n",
       "    <tr>\n",
       "      <th>35240</th>\n",
       "      <td>https://www.smashwords.com/books/view/478928</td>\n",
       "      <td>Dead Echo</td>\n",
       "      <td>C.G. Banks</td>\n",
       "      <td>$0.00 USD</td>\n",
       "      <td>154,110</td>\n",
       "      <td>English</td>\n",
       "      <td>September 22, 2014</td>\n",
       "      <td>Fiction » Horror » Occult</td>\n",
       "      <td>478928</td>\n",
       "      <td>https://www.smashwords.com/books/download/4789...</td>\n",
       "      <td>True</td>\n",
       "      <td>./Horror/478928.txt</td>\n",
       "      <td>Horror</td>\n",
       "      <td>478928.txt</td>\n",
       "      <td>154113.0</td>\n",
       "      <td>836K</td>\n",
       "      <td>True</td>\n",
       "    </tr>\n",
       "    <tr>\n",
       "      <th>37520</th>\n",
       "      <td>https://www.smashwords.com/books/view/445348</td>\n",
       "      <td>Dreamweavers: Awakening</td>\n",
       "      <td>P J G Robbins</td>\n",
       "      <td>$0.00 USD</td>\n",
       "      <td>102,130</td>\n",
       "      <td>English</td>\n",
       "      <td>June 5, 2014</td>\n",
       "      <td>Fiction » Young adult or teen » Adventure</td>\n",
       "      <td>445348</td>\n",
       "      <td>https://www.smashwords.com/books/download/4453...</td>\n",
       "      <td>True</td>\n",
       "      <td>./Teen/445348.txt</td>\n",
       "      <td>Teen</td>\n",
       "      <td>445348.txt</td>\n",
       "      <td>102135.0</td>\n",
       "      <td>568K</td>\n",
       "      <td>True</td>\n",
       "    </tr>\n",
       "    <tr>\n",
       "      <th>21462</th>\n",
       "      <td>https://www.smashwords.com/books/view/346708</td>\n",
       "      <td>Dead Ringers: Volumes 1-3</td>\n",
       "      <td>Darlene Gardner</td>\n",
       "      <td>$0.00 USD</td>\n",
       "      <td>78,650</td>\n",
       "      <td>English</td>\n",
       "      <td>August 12, 2013</td>\n",
       "      <td>Fiction » Young adult or teen » Paranormal , F...</td>\n",
       "      <td>346708</td>\n",
       "      <td>https://www.smashwords.com/books/download/3467...</td>\n",
       "      <td>True</td>\n",
       "      <td>./Romance/346708.txt</td>\n",
       "      <td>Romance</td>\n",
       "      <td>346708.txt</td>\n",
       "      <td>78824.0</td>\n",
       "      <td>440K</td>\n",
       "      <td>True</td>\n",
       "    </tr>\n",
       "  </tbody>\n",
       "</table>\n",
       "</div>"
      ],
      "text/plain": [
       "                                                Link  \\\n",
       "409442  https://www.smashwords.com/books/view/367930   \n",
       "2361    https://www.smashwords.com/books/view/333133   \n",
       "35240   https://www.smashwords.com/books/view/478928   \n",
       "37520   https://www.smashwords.com/books/view/445348   \n",
       "21462   https://www.smashwords.com/books/view/346708   \n",
       "\n",
       "                            Title              Author      Price    Words  \\\n",
       "409442         The Two Schillings     Anthony O'Brian  $4.99 USD  183,680   \n",
       "2361                AMP Messenger  Stephen Arseneault  $0.00 USD   77,330   \n",
       "35240                   Dead Echo          C.G. Banks  $0.00 USD  154,110   \n",
       "37520     Dreamweavers: Awakening       P J G Robbins  $0.00 USD  102,130   \n",
       "21462   Dead Ringers: Volumes 1-3     Darlene Gardner  $0.00 USD   78,650   \n",
       "\n",
       "       Language            Published  \\\n",
       "409442  English    October 15, 2013    \n",
       "2361    English        July 4, 2013    \n",
       "35240   English  September 22, 2014    \n",
       "37520   English        June 5, 2014    \n",
       "21462   English     August 12, 2013    \n",
       "\n",
       "                                               Categories smashwords_id  \\\n",
       "409442  Fiction » Romance » Historical , Fiction » His...        367930   \n",
       "2361    Fiction » Science fiction » Adventure , Fictio...        333133   \n",
       "35240                           Fiction » Horror » Occult        478928   \n",
       "37520           Fiction » Young adult or teen » Adventure        445348   \n",
       "21462   Fiction » Young adult or teen » Paranormal , F...        346708   \n",
       "\n",
       "                                                 EpubLink in_bcopen  \\\n",
       "409442                                                                \n",
       "2361    https://www.smashwords.com/books/download/3331...      True   \n",
       "35240   https://www.smashwords.com/books/download/4789...      True   \n",
       "37520   https://www.smashwords.com/books/download/4453...      True   \n",
       "21462   https://www.smashwords.com/books/download/3467...      True   \n",
       "\n",
       "                            location         category       fname  word_count  \\\n",
       "409442       ./Historical/367930.txt       Historical  367930.txt    183688.0   \n",
       "2361    ./Science_fiction/333133.txt  Science_fiction  333133.txt     76839.0   \n",
       "35240            ./Horror/478928.txt           Horror  478928.txt    154113.0   \n",
       "37520              ./Teen/445348.txt             Teen  445348.txt    102135.0   \n",
       "21462           ./Romance/346708.txt          Romance  346708.txt     78824.0   \n",
       "\n",
       "       disk_usage in_bc_books  \n",
       "409442       980K        True  \n",
       "2361         412K        True  \n",
       "35240        836K        True  \n",
       "37520        568K        True  \n",
       "21462        440K        True  "
      ]
     },
     "execution_count": 23,
     "metadata": {},
     "output_type": "execute_result"
    }
   ],
   "source": [
    "# Check if everything looks okay\n",
    "sw_books[sw_books.in_bc_books==True].sample(5)"
   ]
  },
  {
   "cell_type": "markdown",
   "metadata": {},
   "source": [
    "# Stolen Books?"
   ]
  },
  {
   "cell_type": "code",
   "execution_count": 24,
   "metadata": {},
   "outputs": [
    {
     "data": {
      "text/plain": [
       "438"
      ]
     },
     "execution_count": 24,
     "metadata": {},
     "output_type": "execute_result"
    }
   ],
   "source": [
    "# How many books are in BookCorpus that now cost money?\n",
    "# (Lower bound since metadata is missing for lots of BookCorpus books)\n",
    "len(sw_books[(sw_books.in_bc_books==True)&(sw_books.Price.str.contains('USD'))&(sw_books.Price!='$0.00 USD')])"
   ]
  },
  {
   "cell_type": "code",
   "execution_count": 25,
   "metadata": {
    "scrolled": true
   },
   "outputs": [
    {
     "data": {
      "text/html": [
       "<div>\n",
       "<style scoped>\n",
       "    .dataframe tbody tr th:only-of-type {\n",
       "        vertical-align: middle;\n",
       "    }\n",
       "\n",
       "    .dataframe tbody tr th {\n",
       "        vertical-align: top;\n",
       "    }\n",
       "\n",
       "    .dataframe thead th {\n",
       "        text-align: right;\n",
       "    }\n",
       "</style>\n",
       "<table border=\"1\" class=\"dataframe\">\n",
       "  <thead>\n",
       "    <tr style=\"text-align: right;\">\n",
       "      <th></th>\n",
       "      <th>Link</th>\n",
       "      <th>Title</th>\n",
       "      <th>Author</th>\n",
       "      <th>Price</th>\n",
       "      <th>Words</th>\n",
       "      <th>Language</th>\n",
       "      <th>Published</th>\n",
       "      <th>Categories</th>\n",
       "      <th>smashwords_id</th>\n",
       "      <th>EpubLink</th>\n",
       "      <th>in_bcopen</th>\n",
       "      <th>location</th>\n",
       "      <th>category</th>\n",
       "      <th>fname</th>\n",
       "      <th>word_count</th>\n",
       "      <th>disk_usage</th>\n",
       "      <th>in_bc_books</th>\n",
       "    </tr>\n",
       "  </thead>\n",
       "  <tbody>\n",
       "    <tr>\n",
       "      <th>122891</th>\n",
       "      <td>https://www.smashwords.com/books/view/32286</td>\n",
       "      <td>Drums:  a Novel</td>\n",
       "      <td>Brad Henderson</td>\n",
       "      <td>$4.95 USD</td>\n",
       "      <td>58,140</td>\n",
       "      <td>English</td>\n",
       "      <td>December 4, 2010</td>\n",
       "      <td>Fiction » Literature » Literary , Fiction » Co...</td>\n",
       "      <td>32286</td>\n",
       "      <td></td>\n",
       "      <td></td>\n",
       "      <td>./Literature/32286.txt</td>\n",
       "      <td>Literature</td>\n",
       "      <td>32286.txt</td>\n",
       "      <td>58145.0</td>\n",
       "      <td>328K</td>\n",
       "      <td>True</td>\n",
       "    </tr>\n",
       "    <tr>\n",
       "      <th>251917</th>\n",
       "      <td>https://www.smashwords.com/books/view/419395</td>\n",
       "      <td>Deviation, Breaking the Pattern #1</td>\n",
       "      <td>P.D. Workman</td>\n",
       "      <td>$4.99 USD</td>\n",
       "      <td>57,680</td>\n",
       "      <td>English</td>\n",
       "      <td>March 15, 2014</td>\n",
       "      <td>Fiction » Young adult or teen » Social Issues ...</td>\n",
       "      <td>419395</td>\n",
       "      <td></td>\n",
       "      <td></td>\n",
       "      <td>./Teen/419395.txt</td>\n",
       "      <td>Teen</td>\n",
       "      <td>419395.txt</td>\n",
       "      <td>57680.0</td>\n",
       "      <td>332K</td>\n",
       "      <td>True</td>\n",
       "    </tr>\n",
       "    <tr>\n",
       "      <th>243179</th>\n",
       "      <td>https://www.smashwords.com/books/view/513563</td>\n",
       "      <td>The Hunter, The Dragon And The Smokey Mountain...</td>\n",
       "      <td>M. Modak</td>\n",
       "      <td>$0.99 USD</td>\n",
       "      <td>95,360</td>\n",
       "      <td>English</td>\n",
       "      <td>January 23, 2015</td>\n",
       "      <td>Fiction » Science fiction » Adventure , Fictio...</td>\n",
       "      <td>513563</td>\n",
       "      <td></td>\n",
       "      <td></td>\n",
       "      <td>./Science_fiction/513563.txt</td>\n",
       "      <td>Science_fiction</td>\n",
       "      <td>513563.txt</td>\n",
       "      <td>95348.0</td>\n",
       "      <td>504K</td>\n",
       "      <td>True</td>\n",
       "    </tr>\n",
       "    <tr>\n",
       "      <th>140917</th>\n",
       "      <td>https://www.smashwords.com/books/view/316177</td>\n",
       "      <td>Genetic Cleansing</td>\n",
       "      <td>John Pearce</td>\n",
       "      <td>$2.99 USD</td>\n",
       "      <td>22,240</td>\n",
       "      <td>English</td>\n",
       "      <td>May 14, 2013</td>\n",
       "      <td>Fiction » Science fiction » Adventure , Fictio...</td>\n",
       "      <td>316177</td>\n",
       "      <td></td>\n",
       "      <td></td>\n",
       "      <td>./Adventure/316177.txt</td>\n",
       "      <td>Adventure</td>\n",
       "      <td>316177.txt</td>\n",
       "      <td>22245.0</td>\n",
       "      <td>132K</td>\n",
       "      <td>True</td>\n",
       "    </tr>\n",
       "    <tr>\n",
       "      <th>193606</th>\n",
       "      <td>https://www.smashwords.com/books/view/517771</td>\n",
       "      <td>Unnatural Selection</td>\n",
       "      <td>Bill Langford</td>\n",
       "      <td>$2.99 USD</td>\n",
       "      <td>90,730</td>\n",
       "      <td>English</td>\n",
       "      <td>February 7, 2015</td>\n",
       "      <td>Fiction » Thriller &amp; suspense » General , Fict...</td>\n",
       "      <td>517771</td>\n",
       "      <td></td>\n",
       "      <td></td>\n",
       "      <td>./Thriller/517771.txt</td>\n",
       "      <td>Thriller</td>\n",
       "      <td>517771.txt</td>\n",
       "      <td>92292.0</td>\n",
       "      <td>544K</td>\n",
       "      <td>True</td>\n",
       "    </tr>\n",
       "  </tbody>\n",
       "</table>\n",
       "</div>"
      ],
      "text/plain": [
       "                                                Link  \\\n",
       "122891   https://www.smashwords.com/books/view/32286   \n",
       "251917  https://www.smashwords.com/books/view/419395   \n",
       "243179  https://www.smashwords.com/books/view/513563   \n",
       "140917  https://www.smashwords.com/books/view/316177   \n",
       "193606  https://www.smashwords.com/books/view/517771   \n",
       "\n",
       "                                                    Title          Author  \\\n",
       "122891                                    Drums:  a Novel  Brad Henderson   \n",
       "251917                 Deviation, Breaking the Pattern #1    P.D. Workman   \n",
       "243179  The Hunter, The Dragon And The Smokey Mountain...        M. Modak   \n",
       "140917                                  Genetic Cleansing     John Pearce   \n",
       "193606                                Unnatural Selection   Bill Langford   \n",
       "\n",
       "            Price   Words Language          Published  \\\n",
       "122891  $4.95 USD  58,140  English  December 4, 2010    \n",
       "251917  $4.99 USD  57,680  English    March 15, 2014    \n",
       "243179  $0.99 USD  95,360  English  January 23, 2015    \n",
       "140917  $2.99 USD  22,240  English      May 14, 2013    \n",
       "193606  $2.99 USD  90,730  English  February 7, 2015    \n",
       "\n",
       "                                               Categories smashwords_id  \\\n",
       "122891  Fiction » Literature » Literary , Fiction » Co...         32286   \n",
       "251917  Fiction » Young adult or teen » Social Issues ...        419395   \n",
       "243179  Fiction » Science fiction » Adventure , Fictio...        513563   \n",
       "140917  Fiction » Science fiction » Adventure , Fictio...        316177   \n",
       "193606  Fiction » Thriller & suspense » General , Fict...        517771   \n",
       "\n",
       "       EpubLink in_bcopen                      location         category  \\\n",
       "122891                           ./Literature/32286.txt       Literature   \n",
       "251917                                ./Teen/419395.txt             Teen   \n",
       "243179                     ./Science_fiction/513563.txt  Science_fiction   \n",
       "140917                           ./Adventure/316177.txt        Adventure   \n",
       "193606                            ./Thriller/517771.txt         Thriller   \n",
       "\n",
       "             fname  word_count disk_usage in_bc_books  \n",
       "122891   32286.txt     58145.0       328K        True  \n",
       "251917  419395.txt     57680.0       332K        True  \n",
       "243179  513563.txt     95348.0       504K        True  \n",
       "140917  316177.txt     22245.0       132K        True  \n",
       "193606  517771.txt     92292.0       544K        True  "
      ]
     },
     "execution_count": 25,
     "metadata": {},
     "output_type": "execute_result"
    }
   ],
   "source": [
    "# What are some books that are in BookCorpus that now cost money?\n",
    "sw_books[(sw_books.in_bc_books==True)&(sw_books.Price.str.contains('USD'))&(sw_books.Price!='$0.00 USD')].sample(5)"
   ]
  },
  {
   "cell_type": "markdown",
   "metadata": {},
   "source": [
    "## General Composition"
   ]
  },
  {
   "cell_type": "code",
   "execution_count": 26,
   "metadata": {},
   "outputs": [
    {
     "name": "stdout",
     "output_type": "stream",
     "text": [
      "11040\n"
     ]
    }
   ],
   "source": [
    "# How many instances (books) are there in total?\n",
    "print(len(bc_books))"
   ]
  },
  {
   "cell_type": "code",
   "execution_count": 27,
   "metadata": {},
   "outputs": [],
   "source": [
    "# To align with the 11,038 reported by Zhu and Kiros et al., remove \"adventure-all.txt\" and \"romance-all.txt\"\n",
    "extra_books = bc_books[(bc_books.fname.str.contains('adventure-all.txt')|bc_books.fname.str.contains('romance-all.txt'))]\n",
    "bc_books = bc_books[~(bc_books.fname.str.contains('adventure-all.txt')|bc_books.fname.str.contains('romance-all.txt'))]"
   ]
  },
  {
   "cell_type": "code",
   "execution_count": 28,
   "metadata": {},
   "outputs": [
    {
     "data": {
      "text/plain": [
       "11038"
      ]
     },
     "execution_count": 28,
     "metadata": {},
     "output_type": "execute_result"
    }
   ],
   "source": [
    "len(bc_books)"
   ]
  },
  {
   "cell_type": "code",
   "execution_count": 29,
   "metadata": {},
   "outputs": [
    {
     "data": {
      "text/plain": [
       "811601031"
      ]
     },
     "execution_count": 29,
     "metadata": {},
     "output_type": "execute_result"
    }
   ],
   "source": [
    "# How many words in the files?\n",
    "bc_books.word_count.sum()"
   ]
  },
  {
   "cell_type": "code",
   "execution_count": 30,
   "metadata": {},
   "outputs": [
    {
     "data": {
      "text/plain": [
       "1042409939"
      ]
     },
     "execution_count": 30,
     "metadata": {},
     "output_type": "execute_result"
    }
   ],
   "source": [
    "# Zhu and Kiros et al. report 984,846,357, so this does not align\n",
    "# We hypothesize that this is mainly due to empty text files\n",
    "# e.g. 'All_I_Want_for_Christmas_Is_a_Vampire.txt' is empty in the download from https://yknzhu.wixsite.com/mbweb\n",
    "\n",
    "# Also, if we add the words from the \"extra books,\" the word count exceeds the original reported\n",
    "extra_books.word_count.sum() + bc_books.word_count.sum()"
   ]
  },
  {
   "cell_type": "markdown",
   "metadata": {},
   "source": [
    "## Missing or Truncated Files"
   ]
  },
  {
   "cell_type": "code",
   "execution_count": 31,
   "metadata": {},
   "outputs": [
    {
     "data": {
      "text/plain": [
       "98"
      ]
     },
     "execution_count": 31,
     "metadata": {},
     "output_type": "execute_result"
    }
   ],
   "source": [
    "# How many book files have no disk usage?\n",
    "len(bc_books[bc_books.disk_usage=='0B'])"
   ]
  },
  {
   "cell_type": "code",
   "execution_count": 32,
   "metadata": {},
   "outputs": [
    {
     "data": {
      "text/html": [
       "<div>\n",
       "<style scoped>\n",
       "    .dataframe tbody tr th:only-of-type {\n",
       "        vertical-align: middle;\n",
       "    }\n",
       "\n",
       "    .dataframe tbody tr th {\n",
       "        vertical-align: top;\n",
       "    }\n",
       "\n",
       "    .dataframe thead th {\n",
       "        text-align: right;\n",
       "    }\n",
       "</style>\n",
       "<table border=\"1\" class=\"dataframe\">\n",
       "  <thead>\n",
       "    <tr style=\"text-align: right;\">\n",
       "      <th></th>\n",
       "      <th>location</th>\n",
       "      <th>category</th>\n",
       "      <th>fname</th>\n",
       "      <th>word_count</th>\n",
       "      <th>disk_usage</th>\n",
       "      <th>smashwords_id</th>\n",
       "      <th>in_bc_books</th>\n",
       "    </tr>\n",
       "  </thead>\n",
       "  <tbody>\n",
       "    <tr>\n",
       "      <th>68</th>\n",
       "      <td>./Science_fiction/Asimov42.txt</td>\n",
       "      <td>Science_fiction</td>\n",
       "      <td>Asimov42.txt</td>\n",
       "      <td>0</td>\n",
       "      <td>0B</td>\n",
       "      <td>Asimov42</td>\n",
       "      <td>True</td>\n",
       "    </tr>\n",
       "    <tr>\n",
       "      <th>17</th>\n",
       "      <td>./Fantasy/u4112.txt</td>\n",
       "      <td>Fantasy</td>\n",
       "      <td>u4112.txt</td>\n",
       "      <td>0</td>\n",
       "      <td>0B</td>\n",
       "      <td>u4112</td>\n",
       "      <td>True</td>\n",
       "    </tr>\n",
       "    <tr>\n",
       "      <th>64</th>\n",
       "      <td>./Science_fiction/Asimov38.txt</td>\n",
       "      <td>Science_fiction</td>\n",
       "      <td>Asimov38.txt</td>\n",
       "      <td>0</td>\n",
       "      <td>0B</td>\n",
       "      <td>Asimov38</td>\n",
       "      <td>True</td>\n",
       "    </tr>\n",
       "    <tr>\n",
       "      <th>59</th>\n",
       "      <td>./Science_fiction/Asimov32.txt</td>\n",
       "      <td>Science_fiction</td>\n",
       "      <td>Asimov32.txt</td>\n",
       "      <td>0</td>\n",
       "      <td>0B</td>\n",
       "      <td>Asimov32</td>\n",
       "      <td>True</td>\n",
       "    </tr>\n",
       "    <tr>\n",
       "      <th>47</th>\n",
       "      <td>./Romance/VAMPS_AND_THE_CITY.txt</td>\n",
       "      <td>Romance</td>\n",
       "      <td>VAMPS_AND_THE_CITY.txt</td>\n",
       "      <td>0</td>\n",
       "      <td>0B</td>\n",
       "      <td>VAMPS_AND_THE_CITY</td>\n",
       "      <td>True</td>\n",
       "    </tr>\n",
       "  </tbody>\n",
       "</table>\n",
       "</div>"
      ],
      "text/plain": [
       "                            location         category                   fname  \\\n",
       "68    ./Science_fiction/Asimov42.txt  Science_fiction            Asimov42.txt   \n",
       "17               ./Fantasy/u4112.txt          Fantasy               u4112.txt   \n",
       "64    ./Science_fiction/Asimov38.txt  Science_fiction            Asimov38.txt   \n",
       "59    ./Science_fiction/Asimov32.txt  Science_fiction            Asimov32.txt   \n",
       "47  ./Romance/VAMPS_AND_THE_CITY.txt          Romance  VAMPS_AND_THE_CITY.txt   \n",
       "\n",
       "    word_count disk_usage       smashwords_id  in_bc_books  \n",
       "68           0         0B            Asimov42         True  \n",
       "17           0         0B               u4112         True  \n",
       "64           0         0B            Asimov38         True  \n",
       "59           0         0B            Asimov32         True  \n",
       "47           0         0B  VAMPS_AND_THE_CITY         True  "
      ]
     },
     "execution_count": 32,
     "metadata": {},
     "output_type": "execute_result"
    }
   ],
   "source": [
    "# What are some of the empty book files?\n",
    "bc_books[bc_books.disk_usage=='0B'].sample(5)"
   ]
  },
  {
   "cell_type": "code",
   "execution_count": 33,
   "metadata": {},
   "outputs": [
    {
     "data": {
      "text/plain": [
       "655"
      ]
     },
     "execution_count": 33,
     "metadata": {},
     "output_type": "execute_result"
    }
   ],
   "source": [
    "# How many book files have fewer than 20,000 words (the cutoff specified in the paper)?\n",
    "len(bc_books[bc_books.word_count<20000])"
   ]
  },
  {
   "cell_type": "code",
   "execution_count": 34,
   "metadata": {},
   "outputs": [
    {
     "data": {
      "text/plain": [
       "291"
      ]
     },
     "execution_count": 34,
     "metadata": {},
     "output_type": "execute_result"
    }
   ],
   "source": [
    "# How many book files have fewer than 10,000 words?\n",
    "len(bc_books[bc_books.word_count<10000])"
   ]
  },
  {
   "cell_type": "markdown",
   "metadata": {},
   "source": [
    "## Books with Duplicate Copies"
   ]
  },
  {
   "cell_type": "code",
   "execution_count": 35,
   "metadata": {},
   "outputs": [
    {
     "name": "stdout",
     "output_type": "stream",
     "text": [
      "7185\n"
     ]
    }
   ],
   "source": [
    "# How many unique file names are there?\n",
    "file_name_counts = pd.DataFrame(bc_books.fname.value_counts()).reset_index()\n",
    "file_name_counts.columns = ['fname','n']\n",
    "print(len(file_name_counts))"
   ]
  },
  {
   "cell_type": "markdown",
   "metadata": {},
   "source": [
    "*We confirmed each unique filename corresponded to one unique book, even in cases where word counts and disk usage differed.*\n",
    "\n",
    "*See the datasheet for details.*"
   ]
  },
  {
   "cell_type": "code",
   "execution_count": 36,
   "metadata": {},
   "outputs": [
    {
     "name": "stdout",
     "output_type": "stream",
     "text": [
      "2930\n"
     ]
    }
   ],
   "source": [
    "# How many file names occur multiple times?\n",
    "print(len(file_name_counts[file_name_counts.n>1]))"
   ]
  },
  {
   "cell_type": "code",
   "execution_count": 37,
   "metadata": {},
   "outputs": [
    {
     "data": {
      "text/plain": [
       "3853"
      ]
     },
     "execution_count": 37,
     "metadata": {},
     "output_type": "execute_result"
    }
   ],
   "source": [
    "# How many books do these file names represent?\n",
    "# That is, how many books are duplicates?\n",
    "len(bc_books) - len(file_name_counts)"
   ]
  },
  {
   "cell_type": "code",
   "execution_count": 38,
   "metadata": {},
   "outputs": [
    {
     "name": "stdout",
     "output_type": "stream",
     "text": [
      "1    4255\n",
      "2    2101\n",
      "3     741\n",
      "4      82\n",
      "5       6\n",
      "Name: n, dtype: int64\n"
     ]
    }
   ],
   "source": [
    "# How many books occur once, twice, thrice, etc.?\n",
    "print(file_name_counts.n.value_counts())"
   ]
  },
  {
   "cell_type": "code",
   "execution_count": 39,
   "metadata": {},
   "outputs": [
    {
     "name": "stdout",
     "output_type": "stream",
     "text": [
      "File name: 2415\n",
      "2 Occurrences:\n"
     ]
    },
    {
     "data": {
      "text/html": [
       "<table border=\"1\" class=\"dataframe\">\n",
       "  <thead>\n",
       "    <tr style=\"text-align: right;\">\n",
       "      <th></th>\n",
       "      <th>location</th>\n",
       "      <th>category</th>\n",
       "      <th>fname</th>\n",
       "      <th>word_count</th>\n",
       "      <th>disk_usage</th>\n",
       "      <th>smashwords_id</th>\n",
       "      <th>in_bc_books</th>\n",
       "    </tr>\n",
       "  </thead>\n",
       "  <tbody>\n",
       "    <tr>\n",
       "      <th>1471</th>\n",
       "      <td>./Romance/346942.txt</td>\n",
       "      <td>Romance</td>\n",
       "      <td>346942.txt</td>\n",
       "      <td>26366</td>\n",
       "      <td>148K</td>\n",
       "      <td>346942</td>\n",
       "      <td>True</td>\n",
       "    </tr>\n",
       "    <tr>\n",
       "      <th>1472</th>\n",
       "      <td>./Teen/346942.txt</td>\n",
       "      <td>Teen</td>\n",
       "      <td>346942.txt</td>\n",
       "      <td>26366</td>\n",
       "      <td>148K</td>\n",
       "      <td>346942</td>\n",
       "      <td>True</td>\n",
       "    </tr>\n",
       "  </tbody>\n",
       "</table>"
      ],
      "text/plain": [
       "<IPython.core.display.HTML object>"
      ]
     },
     "metadata": {},
     "output_type": "display_data"
    },
    {
     "name": "stdout",
     "output_type": "stream",
     "text": [
      "File name: 1118\n",
      "2 Occurrences:\n"
     ]
    },
    {
     "data": {
      "text/html": [
       "<table border=\"1\" class=\"dataframe\">\n",
       "  <thead>\n",
       "    <tr style=\"text-align: right;\">\n",
       "      <th></th>\n",
       "      <th>location</th>\n",
       "      <th>category</th>\n",
       "      <th>fname</th>\n",
       "      <th>word_count</th>\n",
       "      <th>disk_usage</th>\n",
       "      <th>smashwords_id</th>\n",
       "      <th>in_bc_books</th>\n",
       "    </tr>\n",
       "  </thead>\n",
       "  <tbody>\n",
       "    <tr>\n",
       "      <th>818</th>\n",
       "      <td>./Horror/124292.txt</td>\n",
       "      <td>Horror</td>\n",
       "      <td>124292.txt</td>\n",
       "      <td>21001</td>\n",
       "      <td>112K</td>\n",
       "      <td>124292</td>\n",
       "      <td>True</td>\n",
       "    </tr>\n",
       "    <tr>\n",
       "      <th>819</th>\n",
       "      <td>./Thriller/124292.txt</td>\n",
       "      <td>Thriller</td>\n",
       "      <td>124292.txt</td>\n",
       "      <td>21001</td>\n",
       "      <td>112K</td>\n",
       "      <td>124292</td>\n",
       "      <td>True</td>\n",
       "    </tr>\n",
       "  </tbody>\n",
       "</table>"
      ],
      "text/plain": [
       "<IPython.core.display.HTML object>"
      ]
     },
     "metadata": {},
     "output_type": "display_data"
    },
    {
     "name": "stdout",
     "output_type": "stream",
     "text": [
      "File name: 617\n",
      "3 Occurrences:\n"
     ]
    },
    {
     "data": {
      "text/html": [
       "<table border=\"1\" class=\"dataframe\">\n",
       "  <thead>\n",
       "    <tr style=\"text-align: right;\">\n",
       "      <th></th>\n",
       "      <th>location</th>\n",
       "      <th>category</th>\n",
       "      <th>fname</th>\n",
       "      <th>word_count</th>\n",
       "      <th>disk_usage</th>\n",
       "      <th>smashwords_id</th>\n",
       "      <th>in_bc_books</th>\n",
       "    </tr>\n",
       "  </thead>\n",
       "  <tbody>\n",
       "    <tr>\n",
       "      <th>8619</th>\n",
       "      <td>./New_Adult/Fenbrook_Academy-2.txt</td>\n",
       "      <td>New_Adult</td>\n",
       "      <td>Fenbrook_Academy-2.txt</td>\n",
       "      <td>98607</td>\n",
       "      <td>524K</td>\n",
       "      <td>Fenbrook_Academy-2</td>\n",
       "      <td>True</td>\n",
       "    </tr>\n",
       "    <tr>\n",
       "      <th>8620</th>\n",
       "      <td>./Romance/Fenbrook_Academy-2.txt</td>\n",
       "      <td>Romance</td>\n",
       "      <td>Fenbrook_Academy-2.txt</td>\n",
       "      <td>98607</td>\n",
       "      <td>524K</td>\n",
       "      <td>Fenbrook_Academy-2</td>\n",
       "      <td>True</td>\n",
       "    </tr>\n",
       "    <tr>\n",
       "      <th>8621</th>\n",
       "      <td>./Young_Adult/Fenbrook_Academy-2.txt</td>\n",
       "      <td>Young_Adult</td>\n",
       "      <td>Fenbrook_Academy-2.txt</td>\n",
       "      <td>98607</td>\n",
       "      <td>524K</td>\n",
       "      <td>Fenbrook_Academy-2</td>\n",
       "      <td>True</td>\n",
       "    </tr>\n",
       "  </tbody>\n",
       "</table>"
      ],
      "text/plain": [
       "<IPython.core.display.HTML object>"
      ]
     },
     "metadata": {},
     "output_type": "display_data"
    },
    {
     "name": "stdout",
     "output_type": "stream",
     "text": [
      "File name: 1067\n",
      "2 Occurrences:\n"
     ]
    },
    {
     "data": {
      "text/html": [
       "<table border=\"1\" class=\"dataframe\">\n",
       "  <thead>\n",
       "    <tr style=\"text-align: right;\">\n",
       "      <th></th>\n",
       "      <th>location</th>\n",
       "      <th>category</th>\n",
       "      <th>fname</th>\n",
       "      <th>word_count</th>\n",
       "      <th>disk_usage</th>\n",
       "      <th>smashwords_id</th>\n",
       "      <th>in_bc_books</th>\n",
       "    </tr>\n",
       "  </thead>\n",
       "  <tbody>\n",
       "    <tr>\n",
       "      <th>9939</th>\n",
       "      <td>./Historical/296579.txt</td>\n",
       "      <td>Historical</td>\n",
       "      <td>296579.txt</td>\n",
       "      <td>121541</td>\n",
       "      <td>708K</td>\n",
       "      <td>296579</td>\n",
       "      <td>True</td>\n",
       "    </tr>\n",
       "    <tr>\n",
       "      <th>9940</th>\n",
       "      <td>./Literature/296579.txt</td>\n",
       "      <td>Literature</td>\n",
       "      <td>296579.txt</td>\n",
       "      <td>121541</td>\n",
       "      <td>708K</td>\n",
       "      <td>296579</td>\n",
       "      <td>True</td>\n",
       "    </tr>\n",
       "  </tbody>\n",
       "</table>"
      ],
      "text/plain": [
       "<IPython.core.display.HTML object>"
      ]
     },
     "metadata": {},
     "output_type": "display_data"
    },
    {
     "name": "stdout",
     "output_type": "stream",
     "text": [
      "File name: 1963\n",
      "2 Occurrences:\n"
     ]
    },
    {
     "data": {
      "text/html": [
       "<table border=\"1\" class=\"dataframe\">\n",
       "  <thead>\n",
       "    <tr style=\"text-align: right;\">\n",
       "      <th></th>\n",
       "      <th>location</th>\n",
       "      <th>category</th>\n",
       "      <th>fname</th>\n",
       "      <th>word_count</th>\n",
       "      <th>disk_usage</th>\n",
       "      <th>smashwords_id</th>\n",
       "      <th>in_bc_books</th>\n",
       "    </tr>\n",
       "  </thead>\n",
       "  <tbody>\n",
       "    <tr>\n",
       "      <th>9860</th>\n",
       "      <td>./Fantasy/488068.txt</td>\n",
       "      <td>Fantasy</td>\n",
       "      <td>488068.txt</td>\n",
       "      <td>118992</td>\n",
       "      <td>632K</td>\n",
       "      <td>488068</td>\n",
       "      <td>True</td>\n",
       "    </tr>\n",
       "    <tr>\n",
       "      <th>9861</th>\n",
       "      <td>./Teen/488068.txt</td>\n",
       "      <td>Teen</td>\n",
       "      <td>488068.txt</td>\n",
       "      <td>118992</td>\n",
       "      <td>632K</td>\n",
       "      <td>488068</td>\n",
       "      <td>True</td>\n",
       "    </tr>\n",
       "  </tbody>\n",
       "</table>"
      ],
      "text/plain": [
       "<IPython.core.display.HTML object>"
      ]
     },
     "metadata": {},
     "output_type": "display_data"
    }
   ],
   "source": [
    "# What are some of the duplicate books?\n",
    "\n",
    "# for now, remove filenames with unknown name scheme (e.g. 'u3041.txt', 'et4358.txt', 'b5096.txt')\n",
    "named_dups=file_name_counts[(~file_name_counts.fname.str.match(r'(u|et|b)'))]\n",
    "named_dups = named_dups[(named_dups.n>1)]\n",
    "\n",
    "# inspect 5 random filenames occuring multiple times, inspect listings\n",
    "for index, row in named_dups.sample(5).iterrows():\n",
    "    print(\"File name: {}\".format(index))\n",
    "    print(\"{} Occurrences:\".format(len(bc_books[bc_books.fname==row.fname])))\n",
    "    display(HTML(bc_books[bc_books.fname==row.fname].to_html()))"
   ]
  },
  {
   "cell_type": "markdown",
   "metadata": {},
   "source": [
    "## Sample Comparisons"
   ]
  },
  {
   "cell_type": "markdown",
   "metadata": {},
   "source": [
    "#### Genre Distribution"
   ]
  },
  {
   "cell_type": "code",
   "execution_count": 40,
   "metadata": {},
   "outputs": [
    {
     "data": {
      "text/html": [
       "<table border=\"1\" class=\"dataframe\">\n",
       "  <thead>\n",
       "    <tr style=\"text-align: right;\">\n",
       "      <th></th>\n",
       "      <th>BookCorpus</th>\n",
       "      <th>BookCorpusOpen</th>\n",
       "      <th>Smashwords21</th>\n",
       "    </tr>\n",
       "  </thead>\n",
       "  <tbody>\n",
       "    <tr>\n",
       "      <th>Romance</th>\n",
       "      <td>26.1% (2880)</td>\n",
       "      <td>17.7% (3333)</td>\n",
       "      <td>15.9% (70049)</td>\n",
       "    </tr>\n",
       "    <tr>\n",
       "      <th>Fantasy</th>\n",
       "      <td>13.6% (1502)</td>\n",
       "      <td>17.1% (3223)</td>\n",
       "      <td>10.6% (46712)</td>\n",
       "    </tr>\n",
       "    <tr>\n",
       "      <th>Science_fiction</th>\n",
       "      <td>7.5% (823)</td>\n",
       "      <td>13.3% (2496)</td>\n",
       "      <td>7.7% (34038)</td>\n",
       "    </tr>\n",
       "    <tr>\n",
       "      <th>New_Adult</th>\n",
       "      <td>6.9% (766)</td>\n",
       "      <td>0.9% (176)</td>\n",
       "      <td>0.7% (3072)</td>\n",
       "    </tr>\n",
       "    <tr>\n",
       "      <th>Young_Adult</th>\n",
       "      <td>6.8% (748)</td>\n",
       "      <td>9.3% (1755)</td>\n",
       "      <td>4.6% (20100)</td>\n",
       "    </tr>\n",
       "    <tr>\n",
       "      <th>Thriller</th>\n",
       "      <td>5.9% (646)</td>\n",
       "      <td>7.4% (1383)</td>\n",
       "      <td>5.7% (25074)</td>\n",
       "    </tr>\n",
       "    <tr>\n",
       "      <th>Mystery</th>\n",
       "      <td>5.6% (621)</td>\n",
       "      <td>5.3% (994)</td>\n",
       "      <td>4.7% (20581)</td>\n",
       "    </tr>\n",
       "    <tr>\n",
       "      <th>Vampires</th>\n",
       "      <td>5.4% (600)</td>\n",
       "      <td>0.0% (0)</td>\n",
       "      <td>0.0% (0)</td>\n",
       "    </tr>\n",
       "    <tr>\n",
       "      <th>Horror</th>\n",
       "      <td>4.1% (448)</td>\n",
       "      <td>3.9% (737)</td>\n",
       "      <td>3.9% (16969)</td>\n",
       "    </tr>\n",
       "    <tr>\n",
       "      <th>Teen</th>\n",
       "      <td>3.9% (430)</td>\n",
       "      <td>9.3% (1759)</td>\n",
       "      <td>4.6% (20250)</td>\n",
       "    </tr>\n",
       "    <tr>\n",
       "      <th>Adventure</th>\n",
       "      <td>3.5% (390)</td>\n",
       "      <td>11.5% (2162)</td>\n",
       "      <td>7.1% (31271)</td>\n",
       "    </tr>\n",
       "    <tr>\n",
       "      <th>Other</th>\n",
       "      <td>3.3% (360)</td>\n",
       "      <td>0.1% (21)</td>\n",
       "      <td>0.3% (1155)</td>\n",
       "    </tr>\n",
       "    <tr>\n",
       "      <th>Literature</th>\n",
       "      <td>3.0% (330)</td>\n",
       "      <td>3.1% (583)</td>\n",
       "      <td>2.6% (11348)</td>\n",
       "    </tr>\n",
       "    <tr>\n",
       "      <th>Humor</th>\n",
       "      <td>2.4% (265)</td>\n",
       "      <td>4.1% (775)</td>\n",
       "      <td>3.0% (13176)</td>\n",
       "    </tr>\n",
       "    <tr>\n",
       "      <th>Historical</th>\n",
       "      <td>1.6% (178)</td>\n",
       "      <td>4.7% (876)</td>\n",
       "      <td>4.5% (19915)</td>\n",
       "    </tr>\n",
       "    <tr>\n",
       "      <th>Themes</th>\n",
       "      <td>0.5% (51)</td>\n",
       "      <td>1.4% (257)</td>\n",
       "      <td>1.5% (6611)</td>\n",
       "    </tr>\n",
       "  </tbody>\n",
       "</table>"
      ],
      "text/plain": [
       "<IPython.core.display.HTML object>"
      ]
     },
     "metadata": {},
     "output_type": "display_data"
    }
   ],
   "source": [
    "# Genre distribution in original BookCorpus\n",
    "genre_df = pd.DataFrame(bc_books.category.value_counts())\n",
    "genre_df.columns = ['BookCorpusN']\n",
    "genre_df['BookCorpusP'] = (genre_df.BookCorpusN/genre_df.BookCorpusN.sum()*100).round(1).astype(str)+'%'\n",
    "genre_df['BookCorpus'] = genre_df.BookCorpusP + ' (' + genre_df.BookCorpusN.astype(str) + ')'\n",
    "\n",
    "\n",
    "# BookCorpusOpen\n",
    "genre_df['BookCorpusOpenN'] = ''\n",
    "for genre in genre_df.index.tolist():\n",
    "    g=genre.replace('_',' ')\n",
    "    genre_df.at[genre,'BookCorpusOpenN'] = len(sw_books[(sw_books.in_bcopen==True)&(sw_books.Categories.str.contains(g,case=False))])\n",
    "\n",
    "total_bcopen = len(sw_books[(sw_books.in_bcopen==True)])\n",
    "genre_df.BookCorpusOpenN = genre_df.BookCorpusOpenN.astype(int)\n",
    "genre_df['BookCorpusOpenP'] = (genre_df.BookCorpusOpenN/total_bcopen*100).round(1).astype(str)+'%'\n",
    "genre_df['BookCorpusOpen'] = genre_df.BookCorpusOpenP + ' (' + genre_df.BookCorpusOpenN.astype(str) + ')'\n",
    "\n",
    "\n",
    "\n",
    "# Smashwords21\n",
    "genre_df['Smashwords21'] = ''\n",
    "for genre in genre_df.index.tolist():\n",
    "    g=genre.replace('_',' ')\n",
    "    genre_df.at[genre,'Smashwords21N'] = len(sw_books[sw_books.Categories.str.contains(g,case=False)])\n",
    "\n",
    "    \n",
    "total_smashwords = len(sw_books)\n",
    "genre_df.Smashwords21N = genre_df.Smashwords21N.astype(int)\n",
    "genre_df['Smashwords21P'] = (genre_df.Smashwords21N/total_smashwords*100).round(1).astype(str)+'%'\n",
    "genre_df['Smashwords21'] = genre_df.Smashwords21P + ' (' + genre_df.Smashwords21N.astype(str) + ')'\n",
    "\n",
    "\n",
    "\n",
    "to_print = genre_df[['BookCorpus','BookCorpusOpen','Smashwords21']]\n",
    "display(HTML(to_print.to_html()))"
   ]
  },
  {
   "cell_type": "markdown",
   "metadata": {},
   "source": [
    "#### Religious Viewpoint Distribution"
   ]
  },
  {
   "cell_type": "code",
   "execution_count": 41,
   "metadata": {},
   "outputs": [],
   "source": [
    "# based on recommendations by Dhamala and Sun et al. https://dl.acm.org/doi/abs/10.1145/3442188.3445924\n",
    "religion_list = ['Sikhism', 'Judaism', 'Islam', 'Hinduism', 'Christianity', 'Buddhism', 'Atheism']\n",
    "\n",
    "religion_df = pd.DataFrame(columns=['BookCorpus','BookCorpusOpen','Smashwords21'],index=religion_list)"
   ]
  },
  {
   "cell_type": "code",
   "execution_count": 42,
   "metadata": {},
   "outputs": [
    {
     "data": {
      "text/html": [
       "<div>\n",
       "<style scoped>\n",
       "    .dataframe tbody tr th:only-of-type {\n",
       "        vertical-align: middle;\n",
       "    }\n",
       "\n",
       "    .dataframe tbody tr th {\n",
       "        vertical-align: top;\n",
       "    }\n",
       "\n",
       "    .dataframe thead th {\n",
       "        text-align: right;\n",
       "    }\n",
       "</style>\n",
       "<table border=\"1\" class=\"dataframe\">\n",
       "  <thead>\n",
       "    <tr style=\"text-align: right;\">\n",
       "      <th></th>\n",
       "      <th>BookCorpus</th>\n",
       "      <th>BookCorpusOpen</th>\n",
       "      <th>Smashwords21</th>\n",
       "    </tr>\n",
       "  </thead>\n",
       "  <tbody>\n",
       "    <tr>\n",
       "      <th>Sikhism</th>\n",
       "      <td>0</td>\n",
       "      <td>0</td>\n",
       "      <td>16</td>\n",
       "    </tr>\n",
       "    <tr>\n",
       "      <th>Judaism</th>\n",
       "      <td>0</td>\n",
       "      <td>19</td>\n",
       "      <td>400</td>\n",
       "    </tr>\n",
       "    <tr>\n",
       "      <th>Islam</th>\n",
       "      <td>0</td>\n",
       "      <td>238</td>\n",
       "      <td>1372</td>\n",
       "    </tr>\n",
       "    <tr>\n",
       "      <th>Hinduism</th>\n",
       "      <td>0</td>\n",
       "      <td>12</td>\n",
       "      <td>273</td>\n",
       "    </tr>\n",
       "    <tr>\n",
       "      <th>Christianity</th>\n",
       "      <td>0</td>\n",
       "      <td>161</td>\n",
       "      <td>2851</td>\n",
       "    </tr>\n",
       "    <tr>\n",
       "      <th>Buddhism</th>\n",
       "      <td>0</td>\n",
       "      <td>33</td>\n",
       "      <td>541</td>\n",
       "    </tr>\n",
       "    <tr>\n",
       "      <th>Atheism</th>\n",
       "      <td>0</td>\n",
       "      <td>18</td>\n",
       "      <td>183</td>\n",
       "    </tr>\n",
       "  </tbody>\n",
       "</table>\n",
       "</div>"
      ],
      "text/plain": [
       "             BookCorpus BookCorpusOpen Smashwords21\n",
       "Sikhism               0              0           16\n",
       "Judaism               0             19          400\n",
       "Islam                 0            238         1372\n",
       "Hinduism              0             12          273\n",
       "Christianity          0            161         2851\n",
       "Buddhism              0             33          541\n",
       "Atheism               0             18          183"
      ]
     },
     "execution_count": 42,
     "metadata": {},
     "output_type": "execute_result"
    }
   ],
   "source": [
    "for religion in religion_list:\n",
    "    religion_df.at[religion,'BookCorpusOpen'] = len(sw_books[(sw_books.in_bcopen==True)&(sw_books.Categories.str.contains(religion,case=False))])\n",
    "    religion_df.at[religion,'Smashwords21'] = len(sw_books[sw_books.Categories.str.contains(religion,case=False)])\n",
    "    religion_df.at[religion,'BookCorpus'] = len(sw_books[(sw_books.in_bc_books==True)&(sw_books.Categories.str.contains(religion,case=False))])\n",
    "\n",
    "religion_df"
   ]
  },
  {
   "cell_type": "code",
   "execution_count": 43,
   "metadata": {},
   "outputs": [
    {
     "data": {
      "text/html": [
       "<div>\n",
       "<style scoped>\n",
       "    .dataframe tbody tr th:only-of-type {\n",
       "        vertical-align: middle;\n",
       "    }\n",
       "\n",
       "    .dataframe tbody tr th {\n",
       "        vertical-align: top;\n",
       "    }\n",
       "\n",
       "    .dataframe thead th {\n",
       "        text-align: right;\n",
       "    }\n",
       "</style>\n",
       "<table border=\"1\" class=\"dataframe\">\n",
       "  <thead>\n",
       "    <tr style=\"text-align: right;\">\n",
       "      <th></th>\n",
       "      <th>Link</th>\n",
       "      <th>Title</th>\n",
       "    </tr>\n",
       "  </thead>\n",
       "  <tbody>\n",
       "    <tr>\n",
       "      <th>56651</th>\n",
       "      <td>https://www.smashwords.com/books/view/793396</td>\n",
       "      <td>Allah's Artistry in Colour</td>\n",
       "    </tr>\n",
       "    <tr>\n",
       "      <th>71452</th>\n",
       "      <td>https://www.smashwords.com/books/view/839408</td>\n",
       "      <td>A Chain of Miracles</td>\n",
       "    </tr>\n",
       "    <tr>\n",
       "      <th>3270</th>\n",
       "      <td>https://www.smashwords.com/books/view/66020</td>\n",
       "      <td>Some Secrets of the Qur'an</td>\n",
       "    </tr>\n",
       "    <tr>\n",
       "      <th>104079</th>\n",
       "      <td>https://www.smashwords.com/books/view/803694</td>\n",
       "      <td>Solution the Values of the Qur'an</td>\n",
       "    </tr>\n",
       "    <tr>\n",
       "      <th>5234</th>\n",
       "      <td>https://www.smashwords.com/books/view/21831</td>\n",
       "      <td>The Exemplar Beyond Compare Muhammad Mustafa</td>\n",
       "    </tr>\n",
       "  </tbody>\n",
       "</table>\n",
       "</div>"
      ],
      "text/plain": [
       "                                                Link  \\\n",
       "56651   https://www.smashwords.com/books/view/793396   \n",
       "71452   https://www.smashwords.com/books/view/839408   \n",
       "3270     https://www.smashwords.com/books/view/66020   \n",
       "104079  https://www.smashwords.com/books/view/803694   \n",
       "5234     https://www.smashwords.com/books/view/21831   \n",
       "\n",
       "                                               Title  \n",
       "56651                     Allah's Artistry in Colour  \n",
       "71452                            A Chain of Miracles  \n",
       "3270                      Some Secrets of the Qur'an  \n",
       "104079             Solution the Values of the Qur'an  \n",
       "5234    The Exemplar Beyond Compare Muhammad Mustafa  "
      ]
     },
     "execution_count": 43,
     "metadata": {},
     "output_type": "execute_result"
    }
   ],
   "source": [
    "# sample of BookCorpusOpen books about Islam\n",
    "sw_books[(sw_books.in_bcopen==True)&(sw_books.Categories.str.contains('Islam',case=False))].sample(5)[['Link','Title']]"
   ]
  },
  {
   "cell_type": "code",
   "execution_count": 44,
   "metadata": {},
   "outputs": [
    {
     "data": {
      "text/html": [
       "<div>\n",
       "<style scoped>\n",
       "    .dataframe tbody tr th:only-of-type {\n",
       "        vertical-align: middle;\n",
       "    }\n",
       "\n",
       "    .dataframe tbody tr th {\n",
       "        vertical-align: top;\n",
       "    }\n",
       "\n",
       "    .dataframe thead th {\n",
       "        text-align: right;\n",
       "    }\n",
       "</style>\n",
       "<table border=\"1\" class=\"dataframe\">\n",
       "  <thead>\n",
       "    <tr style=\"text-align: right;\">\n",
       "      <th></th>\n",
       "      <th>Link</th>\n",
       "      <th>Title</th>\n",
       "    </tr>\n",
       "  </thead>\n",
       "  <tbody>\n",
       "    <tr>\n",
       "      <th>19276</th>\n",
       "      <td>https://www.smashwords.com/books/view/11001</td>\n",
       "      <td>How To Defend The Baptism In The Holy Spirit</td>\n",
       "    </tr>\n",
       "    <tr>\n",
       "      <th>34208</th>\n",
       "      <td>https://www.smashwords.com/books/view/654879</td>\n",
       "      <td>Living in the Will of God</td>\n",
       "    </tr>\n",
       "    <tr>\n",
       "      <th>69523</th>\n",
       "      <td>https://www.smashwords.com/books/view/82244</td>\n",
       "      <td>Jesus Christ, Who He Is And What He Says</td>\n",
       "    </tr>\n",
       "    <tr>\n",
       "      <th>66428</th>\n",
       "      <td>https://www.smashwords.com/books/view/469246</td>\n",
       "      <td>Enlightenment for Christian Controversies</td>\n",
       "    </tr>\n",
       "    <tr>\n",
       "      <th>97915</th>\n",
       "      <td>https://www.smashwords.com/books/view/493831</td>\n",
       "      <td>Freedom Of The Heart</td>\n",
       "    </tr>\n",
       "  </tbody>\n",
       "</table>\n",
       "</div>"
      ],
      "text/plain": [
       "                                               Link  \\\n",
       "19276   https://www.smashwords.com/books/view/11001   \n",
       "34208  https://www.smashwords.com/books/view/654879   \n",
       "69523   https://www.smashwords.com/books/view/82244   \n",
       "66428  https://www.smashwords.com/books/view/469246   \n",
       "97915  https://www.smashwords.com/books/view/493831   \n",
       "\n",
       "                                              Title  \n",
       "19276  How To Defend The Baptism In The Holy Spirit  \n",
       "34208                     Living in the Will of God  \n",
       "69523      Jesus Christ, Who He Is And What He Says  \n",
       "66428     Enlightenment for Christian Controversies  \n",
       "97915                          Freedom Of The Heart  "
      ]
     },
     "execution_count": 44,
     "metadata": {},
     "output_type": "execute_result"
    }
   ],
   "source": [
    "# sample of BookCorpusOpen books about Christianity\n",
    "sw_books[(sw_books.in_bcopen==True)&(sw_books.Categories.str.contains('Christianity',case=False))].sample(5)[['Link','Title']]"
   ]
  }
 ],
 "metadata": {
  "kernelspec": {
   "display_name": "Python 3",
   "language": "python",
   "name": "python3"
  },
  "language_info": {
   "codemirror_mode": {
    "name": "ipython",
    "version": 3
   },
   "file_extension": ".py",
   "mimetype": "text/x-python",
   "name": "python",
   "nbconvert_exporter": "python",
   "pygments_lexer": "ipython3",
   "version": "3.7.6"
  }
 },
 "nbformat": 4,
 "nbformat_minor": 4
}
